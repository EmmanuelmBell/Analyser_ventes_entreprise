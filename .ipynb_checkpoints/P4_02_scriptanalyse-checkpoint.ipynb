{
 "cells": [
  {
   "cell_type": "markdown",
   "metadata": {},
   "source": [
    "# Table des matieres :\n",
    "\n",
    "* [Analyse](#analyse)\n",
    "    * [chiffre d'affaires globale  2021](#turnover21)\n",
    "    * [chiffre d'affaires globale par mois 2021](#turnover21month)\n",
    "    * [courbe de lorenz prix](#lorenz)\n",
    "    * [chiffre d'affaires par catégorie 2021](#turnover21categ)\n",
    "    * [nombre de ventes par catégorie 2021](#nbsell21categ)\n",
    "    * [nombre de ventes par jour  en octobre](#nbselloct21)\n",
    "    * [variation des prix par catégories ](#pricevariation)\n",
    "    * [chiffre d'affaires par tranche d'âge 2021](#turnoverage21)\n",
    "    * [nombre de ventes par tranche d'âge 2021](#nbsellage21)\n",
    "    * [chiffre d'affaires par genre 2021](#turnover21sex)\n",
    "    * [chiffre d'affaires et ventes  par tranche d'âge, genre et catégorie 2021](#turnovercateggender21)\n",
    "    * [panier](#basket)\n",
    "    * [2022](#2022)\n",
    "* [Corrélation](#correlation)"
   ]
  },
  {
   "cell_type": "code",
   "execution_count": 1,
   "metadata": {},
   "outputs": [],
   "source": [
    "import pandas as pd\n",
    "import re\n",
    "import matplotlib.pyplot as plt\n",
    "import numpy as np\n",
    "import seaborn as sns\n",
    "import warnings\n",
    "\n",
    "sns.set_theme(style=\"darkgrid\")\n",
    "warnings.simplefilter(action='ignore')"
   ]
  },
  {
   "cell_type": "code",
   "execution_count": 2,
   "metadata": {},
   "outputs": [],
   "source": [
    "# fonction pour la courbe de lorenz et indice de gini \n",
    "def lorenz_plot(var) :\n",
    "    n = len(var)\n",
    "    lorenz = np.cumsum(np.sort(var)) / var.sum()\n",
    "    lorenz = np.append([0],lorenz)\n",
    "    plt.axes().axis('equal')\n",
    "    xaxis = np.linspace(0-1/n,1+1/n,n+1) \n",
    "    plt.plot(xaxis,lorenz,drawstyle='steps-post')\n",
    "    plt.gca().set_aspect('equal', adjustable = 'box')\n",
    "    x = [0, 1]\n",
    "    y = [0, 1]\n",
    "\n",
    "    plt.plot(x, y, 'green')\n",
    "    plt.ylabel(\"pourcentage du Chiffre d'affaires\")\n",
    "    plt.xlabel('pourcentage des prix produits')\n",
    "    \n",
    "    medial = len(lorenz[lorenz <= 0.5]) / len(lorenz)\n",
    "    plt.plot([0, medial], [0.5, 0.5], color='#f70028', linestyle=':', linewidth=2, label=\"Medial\")\n",
    "    plt.plot([medial, medial], [0, 0.5], color='#f70028', linestyle=':', linewidth=2)\n",
    "    \n",
    "    print(medial)\n",
    "\n",
    "    plt.ylim(0, 1)\n",
    "    plt.xlim(0, 1)\n",
    "    plt.legend(['Courbe de concentration', 'Bissectrice'])\n",
    "    plt.show()\n",
    "    \n",
    "def gini(var) :\n",
    "    n = len(var)\n",
    "    lorenz = np.cumsum(np.sort(var)) / var.sum()\n",
    "    lorenz = np.append([0],lorenz)\n",
    "    AUC = (lorenz.sum() -lorenz[-1]/2 -lorenz[0]/2)/n # Surface sous la courbe de Lorenz. Le premier segment (lorenz[0]) est à moitié en dessous de 0, on le coupe donc en 2, on fait de même pour le dernier segment lorenz[-1] qui est à moitié au dessus de 1.\n",
    "    S = 0.5 - AUC # surface entre la première bissectrice et le courbe de Lorenz\n",
    "    gini = 2*S\n",
    "    return gini\n",
    "\n",
    "def slice_age (s):\n",
    "    if s < 20 :\n",
    "        s = '20>'\n",
    "        return s\n",
    "    if 20 <= s < 31 :\n",
    "        s = '21-30'\n",
    "        return s\n",
    "    if 31 <= s < 41 :\n",
    "        s = '31-40'\n",
    "        return s\n",
    "    if 41 <= s < 51 :\n",
    "        s = '41-50'\n",
    "        return s\n",
    "    if 51 <= s < 61 :\n",
    "        s = '51-60'\n",
    "        return s\n",
    "    if 61 <= s < 71 :\n",
    "        s = '61-70'\n",
    "        return s\n",
    "    if 71 <= s < 81 :\n",
    "        s = '71-80'\n",
    "        return s\n",
    "    if 81 <= s < 100 :\n",
    "        s = '80<'\n",
    "        return s\n"
   ]
  },
  {
   "cell_type": "code",
   "execution_count": 3,
   "metadata": {},
   "outputs": [
    {
     "data": {
      "text/html": [
       "<div>\n",
       "<style scoped>\n",
       "    .dataframe tbody tr th:only-of-type {\n",
       "        vertical-align: middle;\n",
       "    }\n",
       "\n",
       "    .dataframe tbody tr th {\n",
       "        vertical-align: top;\n",
       "    }\n",
       "\n",
       "    .dataframe thead th {\n",
       "        text-align: right;\n",
       "    }\n",
       "</style>\n",
       "<table border=\"1\" class=\"dataframe\">\n",
       "  <thead>\n",
       "    <tr style=\"text-align: right;\">\n",
       "      <th></th>\n",
       "      <th>Unnamed: 0</th>\n",
       "      <th>id_prod</th>\n",
       "      <th>date</th>\n",
       "      <th>session_id</th>\n",
       "      <th>client_id</th>\n",
       "      <th>gender</th>\n",
       "      <th>birth</th>\n",
       "      <th>age</th>\n",
       "      <th>price</th>\n",
       "      <th>categ</th>\n",
       "      <th>slice_age</th>\n",
       "    </tr>\n",
       "  </thead>\n",
       "  <tbody>\n",
       "    <tr>\n",
       "      <th>0</th>\n",
       "      <td>0</td>\n",
       "      <td>0_1483</td>\n",
       "      <td>2021-04-10 18:37:28.723910</td>\n",
       "      <td>s_18746</td>\n",
       "      <td>c_4450</td>\n",
       "      <td>f</td>\n",
       "      <td>1977.0</td>\n",
       "      <td>45.0</td>\n",
       "      <td>4.99</td>\n",
       "      <td>0</td>\n",
       "      <td>41-50</td>\n",
       "    </tr>\n",
       "    <tr>\n",
       "      <th>1</th>\n",
       "      <td>1</td>\n",
       "      <td>2_226</td>\n",
       "      <td>2022-02-03 01:55:53.276402</td>\n",
       "      <td>s_159142</td>\n",
       "      <td>c_277</td>\n",
       "      <td>f</td>\n",
       "      <td>2000.0</td>\n",
       "      <td>22.0</td>\n",
       "      <td>65.75</td>\n",
       "      <td>2</td>\n",
       "      <td>21-30</td>\n",
       "    </tr>\n",
       "    <tr>\n",
       "      <th>2</th>\n",
       "      <td>2</td>\n",
       "      <td>1_374</td>\n",
       "      <td>2021-09-23 15:13:46.938559</td>\n",
       "      <td>s_94290</td>\n",
       "      <td>c_4270</td>\n",
       "      <td>f</td>\n",
       "      <td>1979.0</td>\n",
       "      <td>43.0</td>\n",
       "      <td>10.71</td>\n",
       "      <td>1</td>\n",
       "      <td>41-50</td>\n",
       "    </tr>\n",
       "    <tr>\n",
       "      <th>3</th>\n",
       "      <td>3</td>\n",
       "      <td>0_2186</td>\n",
       "      <td>2021-10-17 03:27:18.783634</td>\n",
       "      <td>s_105936</td>\n",
       "      <td>c_4597</td>\n",
       "      <td>m</td>\n",
       "      <td>1963.0</td>\n",
       "      <td>59.0</td>\n",
       "      <td>4.20</td>\n",
       "      <td>0</td>\n",
       "      <td>51-60</td>\n",
       "    </tr>\n",
       "    <tr>\n",
       "      <th>4</th>\n",
       "      <td>4</td>\n",
       "      <td>0_1351</td>\n",
       "      <td>2021-07-17 20:34:25.800563</td>\n",
       "      <td>s_63642</td>\n",
       "      <td>c_1242</td>\n",
       "      <td>f</td>\n",
       "      <td>1980.0</td>\n",
       "      <td>42.0</td>\n",
       "      <td>8.99</td>\n",
       "      <td>0</td>\n",
       "      <td>41-50</td>\n",
       "    </tr>\n",
       "    <tr>\n",
       "      <th>...</th>\n",
       "      <td>...</td>\n",
       "      <td>...</td>\n",
       "      <td>...</td>\n",
       "      <td>...</td>\n",
       "      <td>...</td>\n",
       "      <td>...</td>\n",
       "      <td>...</td>\n",
       "      <td>...</td>\n",
       "      <td>...</td>\n",
       "      <td>...</td>\n",
       "      <td>...</td>\n",
       "    </tr>\n",
       "    <tr>\n",
       "      <th>336708</th>\n",
       "      <td>337011</td>\n",
       "      <td>1_671</td>\n",
       "      <td>2021-05-28 12:35:46.214839</td>\n",
       "      <td>s_40720</td>\n",
       "      <td>c_3454</td>\n",
       "      <td>m</td>\n",
       "      <td>1969.0</td>\n",
       "      <td>53.0</td>\n",
       "      <td>31.99</td>\n",
       "      <td>1</td>\n",
       "      <td>51-60</td>\n",
       "    </tr>\n",
       "    <tr>\n",
       "      <th>336709</th>\n",
       "      <td>337012</td>\n",
       "      <td>0_759</td>\n",
       "      <td>2021-06-19 00:19:23.917703</td>\n",
       "      <td>s_50568</td>\n",
       "      <td>c_6268</td>\n",
       "      <td>m</td>\n",
       "      <td>1991.0</td>\n",
       "      <td>31.0</td>\n",
       "      <td>22.99</td>\n",
       "      <td>0</td>\n",
       "      <td>31-40</td>\n",
       "    </tr>\n",
       "    <tr>\n",
       "      <th>336710</th>\n",
       "      <td>337013</td>\n",
       "      <td>0_1256</td>\n",
       "      <td>2021-03-16 17:31:59.442007</td>\n",
       "      <td>s_7219</td>\n",
       "      <td>c_4137</td>\n",
       "      <td>f</td>\n",
       "      <td>1968.0</td>\n",
       "      <td>54.0</td>\n",
       "      <td>11.03</td>\n",
       "      <td>0</td>\n",
       "      <td>51-60</td>\n",
       "    </tr>\n",
       "    <tr>\n",
       "      <th>336711</th>\n",
       "      <td>337014</td>\n",
       "      <td>2_227</td>\n",
       "      <td>2021-10-30 16:50:15.997750</td>\n",
       "      <td>s_112349</td>\n",
       "      <td>c_5</td>\n",
       "      <td>f</td>\n",
       "      <td>1994.0</td>\n",
       "      <td>28.0</td>\n",
       "      <td>50.99</td>\n",
       "      <td>2</td>\n",
       "      <td>21-30</td>\n",
       "    </tr>\n",
       "    <tr>\n",
       "      <th>336712</th>\n",
       "      <td>337015</td>\n",
       "      <td>0_1417</td>\n",
       "      <td>2021-06-26 14:38:19.732946</td>\n",
       "      <td>s_54117</td>\n",
       "      <td>c_6714</td>\n",
       "      <td>f</td>\n",
       "      <td>1968.0</td>\n",
       "      <td>54.0</td>\n",
       "      <td>17.99</td>\n",
       "      <td>0</td>\n",
       "      <td>51-60</td>\n",
       "    </tr>\n",
       "  </tbody>\n",
       "</table>\n",
       "<p>336713 rows × 11 columns</p>\n",
       "</div>"
      ],
      "text/plain": [
       "        Unnamed: 0 id_prod                        date session_id client_id  \\\n",
       "0                0  0_1483  2021-04-10 18:37:28.723910    s_18746    c_4450   \n",
       "1                1   2_226  2022-02-03 01:55:53.276402   s_159142     c_277   \n",
       "2                2   1_374  2021-09-23 15:13:46.938559    s_94290    c_4270   \n",
       "3                3  0_2186  2021-10-17 03:27:18.783634   s_105936    c_4597   \n",
       "4                4  0_1351  2021-07-17 20:34:25.800563    s_63642    c_1242   \n",
       "...            ...     ...                         ...        ...       ...   \n",
       "336708      337011   1_671  2021-05-28 12:35:46.214839    s_40720    c_3454   \n",
       "336709      337012   0_759  2021-06-19 00:19:23.917703    s_50568    c_6268   \n",
       "336710      337013  0_1256  2021-03-16 17:31:59.442007     s_7219    c_4137   \n",
       "336711      337014   2_227  2021-10-30 16:50:15.997750   s_112349       c_5   \n",
       "336712      337015  0_1417  2021-06-26 14:38:19.732946    s_54117    c_6714   \n",
       "\n",
       "       gender   birth   age  price  categ slice_age  \n",
       "0           f  1977.0  45.0   4.99      0     41-50  \n",
       "1           f  2000.0  22.0  65.75      2     21-30  \n",
       "2           f  1979.0  43.0  10.71      1     41-50  \n",
       "3           m  1963.0  59.0   4.20      0     51-60  \n",
       "4           f  1980.0  42.0   8.99      0     41-50  \n",
       "...       ...     ...   ...    ...    ...       ...  \n",
       "336708      m  1969.0  53.0  31.99      1     51-60  \n",
       "336709      m  1991.0  31.0  22.99      0     31-40  \n",
       "336710      f  1968.0  54.0  11.03      0     51-60  \n",
       "336711      f  1994.0  28.0  50.99      2     21-30  \n",
       "336712      f  1968.0  54.0  17.99      0     51-60  \n",
       "\n",
       "[336713 rows x 11 columns]"
      ]
     },
     "execution_count": 3,
     "metadata": {},
     "output_type": "execute_result"
    }
   ],
   "source": [
    "df_general = pd.read_csv('df_general.csv')\n",
    "df_general['slice_age'] = df_general['age'].apply(slice_age)\n",
    "df_general"
   ]
  },
  {
   "cell_type": "markdown",
   "metadata": {},
   "source": [
    "# Analyse : <a class=\"anchor\" id=\"analyse\"></a>"
   ]
  },
  {
   "cell_type": "markdown",
   "metadata": {},
   "source": [
    "## chiffre d'affaires globale 2021 : <a class=\"anchor\" id=\"turnover21\"></a>"
   ]
  },
  {
   "cell_type": "code",
   "execution_count": 4,
   "metadata": {},
   "outputs": [
    {
     "data": {
      "text/html": [
       "<div>\n",
       "<style scoped>\n",
       "    .dataframe tbody tr th:only-of-type {\n",
       "        vertical-align: middle;\n",
       "    }\n",
       "\n",
       "    .dataframe tbody tr th {\n",
       "        vertical-align: top;\n",
       "    }\n",
       "\n",
       "    .dataframe thead th {\n",
       "        text-align: right;\n",
       "    }\n",
       "</style>\n",
       "<table border=\"1\" class=\"dataframe\">\n",
       "  <thead>\n",
       "    <tr style=\"text-align: right;\">\n",
       "      <th></th>\n",
       "      <th>Unnamed: 0</th>\n",
       "      <th>id_prod</th>\n",
       "      <th>date</th>\n",
       "      <th>session_id</th>\n",
       "      <th>client_id</th>\n",
       "      <th>gender</th>\n",
       "      <th>birth</th>\n",
       "      <th>age</th>\n",
       "      <th>price</th>\n",
       "      <th>categ</th>\n",
       "      <th>slice_age</th>\n",
       "      <th>month_number</th>\n",
       "    </tr>\n",
       "  </thead>\n",
       "  <tbody>\n",
       "    <tr>\n",
       "      <th>0</th>\n",
       "      <td>0</td>\n",
       "      <td>0_1483</td>\n",
       "      <td>2021-04-10 18:37:28.723910</td>\n",
       "      <td>s_18746</td>\n",
       "      <td>c_4450</td>\n",
       "      <td>f</td>\n",
       "      <td>1977.0</td>\n",
       "      <td>45.0</td>\n",
       "      <td>4.99</td>\n",
       "      <td>0</td>\n",
       "      <td>41-50</td>\n",
       "      <td>04</td>\n",
       "    </tr>\n",
       "    <tr>\n",
       "      <th>2</th>\n",
       "      <td>2</td>\n",
       "      <td>1_374</td>\n",
       "      <td>2021-09-23 15:13:46.938559</td>\n",
       "      <td>s_94290</td>\n",
       "      <td>c_4270</td>\n",
       "      <td>f</td>\n",
       "      <td>1979.0</td>\n",
       "      <td>43.0</td>\n",
       "      <td>10.71</td>\n",
       "      <td>1</td>\n",
       "      <td>41-50</td>\n",
       "      <td>09</td>\n",
       "    </tr>\n",
       "    <tr>\n",
       "      <th>3</th>\n",
       "      <td>3</td>\n",
       "      <td>0_2186</td>\n",
       "      <td>2021-10-17 03:27:18.783634</td>\n",
       "      <td>s_105936</td>\n",
       "      <td>c_4597</td>\n",
       "      <td>m</td>\n",
       "      <td>1963.0</td>\n",
       "      <td>59.0</td>\n",
       "      <td>4.20</td>\n",
       "      <td>0</td>\n",
       "      <td>51-60</td>\n",
       "      <td>10</td>\n",
       "    </tr>\n",
       "    <tr>\n",
       "      <th>4</th>\n",
       "      <td>4</td>\n",
       "      <td>0_1351</td>\n",
       "      <td>2021-07-17 20:34:25.800563</td>\n",
       "      <td>s_63642</td>\n",
       "      <td>c_1242</td>\n",
       "      <td>f</td>\n",
       "      <td>1980.0</td>\n",
       "      <td>42.0</td>\n",
       "      <td>8.99</td>\n",
       "      <td>0</td>\n",
       "      <td>41-50</td>\n",
       "      <td>07</td>\n",
       "    </tr>\n",
       "    <tr>\n",
       "      <th>5</th>\n",
       "      <td>5</td>\n",
       "      <td>0_1085</td>\n",
       "      <td>2021-09-15 05:47:48.215162</td>\n",
       "      <td>s_90139</td>\n",
       "      <td>c_2526</td>\n",
       "      <td>f</td>\n",
       "      <td>1982.0</td>\n",
       "      <td>40.0</td>\n",
       "      <td>3.99</td>\n",
       "      <td>0</td>\n",
       "      <td>31-40</td>\n",
       "      <td>09</td>\n",
       "    </tr>\n",
       "    <tr>\n",
       "      <th>...</th>\n",
       "      <td>...</td>\n",
       "      <td>...</td>\n",
       "      <td>...</td>\n",
       "      <td>...</td>\n",
       "      <td>...</td>\n",
       "      <td>...</td>\n",
       "      <td>...</td>\n",
       "      <td>...</td>\n",
       "      <td>...</td>\n",
       "      <td>...</td>\n",
       "      <td>...</td>\n",
       "      <td>...</td>\n",
       "    </tr>\n",
       "    <tr>\n",
       "      <th>336708</th>\n",
       "      <td>337011</td>\n",
       "      <td>1_671</td>\n",
       "      <td>2021-05-28 12:35:46.214839</td>\n",
       "      <td>s_40720</td>\n",
       "      <td>c_3454</td>\n",
       "      <td>m</td>\n",
       "      <td>1969.0</td>\n",
       "      <td>53.0</td>\n",
       "      <td>31.99</td>\n",
       "      <td>1</td>\n",
       "      <td>51-60</td>\n",
       "      <td>05</td>\n",
       "    </tr>\n",
       "    <tr>\n",
       "      <th>336709</th>\n",
       "      <td>337012</td>\n",
       "      <td>0_759</td>\n",
       "      <td>2021-06-19 00:19:23.917703</td>\n",
       "      <td>s_50568</td>\n",
       "      <td>c_6268</td>\n",
       "      <td>m</td>\n",
       "      <td>1991.0</td>\n",
       "      <td>31.0</td>\n",
       "      <td>22.99</td>\n",
       "      <td>0</td>\n",
       "      <td>31-40</td>\n",
       "      <td>06</td>\n",
       "    </tr>\n",
       "    <tr>\n",
       "      <th>336710</th>\n",
       "      <td>337013</td>\n",
       "      <td>0_1256</td>\n",
       "      <td>2021-03-16 17:31:59.442007</td>\n",
       "      <td>s_7219</td>\n",
       "      <td>c_4137</td>\n",
       "      <td>f</td>\n",
       "      <td>1968.0</td>\n",
       "      <td>54.0</td>\n",
       "      <td>11.03</td>\n",
       "      <td>0</td>\n",
       "      <td>51-60</td>\n",
       "      <td>03</td>\n",
       "    </tr>\n",
       "    <tr>\n",
       "      <th>336711</th>\n",
       "      <td>337014</td>\n",
       "      <td>2_227</td>\n",
       "      <td>2021-10-30 16:50:15.997750</td>\n",
       "      <td>s_112349</td>\n",
       "      <td>c_5</td>\n",
       "      <td>f</td>\n",
       "      <td>1994.0</td>\n",
       "      <td>28.0</td>\n",
       "      <td>50.99</td>\n",
       "      <td>2</td>\n",
       "      <td>21-30</td>\n",
       "      <td>10</td>\n",
       "    </tr>\n",
       "    <tr>\n",
       "      <th>336712</th>\n",
       "      <td>337015</td>\n",
       "      <td>0_1417</td>\n",
       "      <td>2021-06-26 14:38:19.732946</td>\n",
       "      <td>s_54117</td>\n",
       "      <td>c_6714</td>\n",
       "      <td>f</td>\n",
       "      <td>1968.0</td>\n",
       "      <td>54.0</td>\n",
       "      <td>17.99</td>\n",
       "      <td>0</td>\n",
       "      <td>51-60</td>\n",
       "      <td>06</td>\n",
       "    </tr>\n",
       "  </tbody>\n",
       "</table>\n",
       "<p>277846 rows × 12 columns</p>\n",
       "</div>"
      ],
      "text/plain": [
       "        Unnamed: 0 id_prod                        date session_id client_id  \\\n",
       "0                0  0_1483  2021-04-10 18:37:28.723910    s_18746    c_4450   \n",
       "2                2   1_374  2021-09-23 15:13:46.938559    s_94290    c_4270   \n",
       "3                3  0_2186  2021-10-17 03:27:18.783634   s_105936    c_4597   \n",
       "4                4  0_1351  2021-07-17 20:34:25.800563    s_63642    c_1242   \n",
       "5                5  0_1085  2021-09-15 05:47:48.215162    s_90139    c_2526   \n",
       "...            ...     ...                         ...        ...       ...   \n",
       "336708      337011   1_671  2021-05-28 12:35:46.214839    s_40720    c_3454   \n",
       "336709      337012   0_759  2021-06-19 00:19:23.917703    s_50568    c_6268   \n",
       "336710      337013  0_1256  2021-03-16 17:31:59.442007     s_7219    c_4137   \n",
       "336711      337014   2_227  2021-10-30 16:50:15.997750   s_112349       c_5   \n",
       "336712      337015  0_1417  2021-06-26 14:38:19.732946    s_54117    c_6714   \n",
       "\n",
       "       gender   birth   age  price  categ slice_age month_number  \n",
       "0           f  1977.0  45.0   4.99      0     41-50           04  \n",
       "2           f  1979.0  43.0  10.71      1     41-50           09  \n",
       "3           m  1963.0  59.0   4.20      0     51-60           10  \n",
       "4           f  1980.0  42.0   8.99      0     41-50           07  \n",
       "5           f  1982.0  40.0   3.99      0     31-40           09  \n",
       "...       ...     ...   ...    ...    ...       ...          ...  \n",
       "336708      m  1969.0  53.0  31.99      1     51-60           05  \n",
       "336709      m  1991.0  31.0  22.99      0     31-40           06  \n",
       "336710      f  1968.0  54.0  11.03      0     51-60           03  \n",
       "336711      f  1994.0  28.0  50.99      2     21-30           10  \n",
       "336712      f  1968.0  54.0  17.99      0     51-60           06  \n",
       "\n",
       "[277846 rows x 12 columns]"
      ]
     },
     "execution_count": 4,
     "metadata": {},
     "output_type": "execute_result"
    }
   ],
   "source": [
    "def date_format_by_month(s) :\n",
    "    return s[5:7]\n",
    "\n",
    "df_general['month_number'] = df_general['date'].apply(date_format_by_month)\n",
    "\n",
    "turnover_2021 = df_general[df_general['date'].str.match('^2021.*')== True]\n",
    "turnover_2022 = df_general[df_general['date'].str.match('^2022.*')== True]\n",
    "turnover_2021"
   ]
  },
  {
   "cell_type": "code",
   "execution_count": 5,
   "metadata": {},
   "outputs": [
    {
     "data": {
      "text/plain": [
       "4740881.579999999"
      ]
     },
     "execution_count": 5,
     "metadata": {},
     "output_type": "execute_result"
    }
   ],
   "source": [
    "turnover_2021_value = turnover_2021['price'].sum()\n",
    "turnover_2021_value"
   ]
  },
  {
   "cell_type": "markdown",
   "metadata": {},
   "source": [
    "#### Le chiffre d'affaires de l'année 2021 est de 4 736 845.95 euros"
   ]
  },
  {
   "cell_type": "markdown",
   "metadata": {},
   "source": [
    "## Chiffre d'affaires par mois en 2021 <a class=\"anchor\" id=\"turnover21month\"></a>"
   ]
  },
  {
   "cell_type": "code",
   "execution_count": 6,
   "metadata": {},
   "outputs": [
    {
     "data": {
      "text/html": [
       "<div>\n",
       "<style scoped>\n",
       "    .dataframe tbody tr th:only-of-type {\n",
       "        vertical-align: middle;\n",
       "    }\n",
       "\n",
       "    .dataframe tbody tr th {\n",
       "        vertical-align: top;\n",
       "    }\n",
       "\n",
       "    .dataframe thead th {\n",
       "        text-align: right;\n",
       "    }\n",
       "</style>\n",
       "<table border=\"1\" class=\"dataframe\">\n",
       "  <thead>\n",
       "    <tr style=\"text-align: right;\">\n",
       "      <th></th>\n",
       "      <th>month_number</th>\n",
       "      <th>Unnamed: 0</th>\n",
       "      <th>birth</th>\n",
       "      <th>age</th>\n",
       "      <th>price</th>\n",
       "      <th>categ</th>\n",
       "    </tr>\n",
       "  </thead>\n",
       "  <tbody>\n",
       "    <tr>\n",
       "      <th>0</th>\n",
       "      <td>03</td>\n",
       "      <td>4825115524</td>\n",
       "      <td>56485184.0</td>\n",
       "      <td>1261114.0</td>\n",
       "      <td>479312.03</td>\n",
       "      <td>11764</td>\n",
       "    </tr>\n",
       "    <tr>\n",
       "      <th>1</th>\n",
       "      <td>04</td>\n",
       "      <td>4779772392</td>\n",
       "      <td>56180727.0</td>\n",
       "      <td>1246095.0</td>\n",
       "      <td>472980.72</td>\n",
       "      <td>10581</td>\n",
       "    </tr>\n",
       "    <tr>\n",
       "      <th>2</th>\n",
       "      <td>05</td>\n",
       "      <td>4769015405</td>\n",
       "      <td>55851818.0</td>\n",
       "      <td>1243396.0</td>\n",
       "      <td>489367.95</td>\n",
       "      <td>11413</td>\n",
       "    </tr>\n",
       "    <tr>\n",
       "      <th>3</th>\n",
       "      <td>06</td>\n",
       "      <td>4519077169</td>\n",
       "      <td>53034239.0</td>\n",
       "      <td>1179625.0</td>\n",
       "      <td>481257.94</td>\n",
       "      <td>12602</td>\n",
       "    </tr>\n",
       "    <tr>\n",
       "      <th>4</th>\n",
       "      <td>07</td>\n",
       "      <td>4190384043</td>\n",
       "      <td>48886368.0</td>\n",
       "      <td>1081296.0</td>\n",
       "      <td>480898.66</td>\n",
       "      <td>13125</td>\n",
       "    </tr>\n",
       "    <tr>\n",
       "      <th>5</th>\n",
       "      <td>08</td>\n",
       "      <td>4335793076</td>\n",
       "      <td>50665130.0</td>\n",
       "      <td>1118290.0</td>\n",
       "      <td>479305.19</td>\n",
       "      <td>11850</td>\n",
       "    </tr>\n",
       "    <tr>\n",
       "      <th>6</th>\n",
       "      <td>09</td>\n",
       "      <td>5592202830</td>\n",
       "      <td>65754257.0</td>\n",
       "      <td>1485331.0</td>\n",
       "      <td>502771.28</td>\n",
       "      <td>11016</td>\n",
       "    </tr>\n",
       "    <tr>\n",
       "      <th>7</th>\n",
       "      <td>10</td>\n",
       "      <td>3628941025</td>\n",
       "      <td>42698007.0</td>\n",
       "      <td>930687.0</td>\n",
       "      <td>319159.96</td>\n",
       "      <td>3986</td>\n",
       "    </tr>\n",
       "    <tr>\n",
       "      <th>8</th>\n",
       "      <td>11</td>\n",
       "      <td>4776248507</td>\n",
       "      <td>55895885.0</td>\n",
       "      <td>1259989.0</td>\n",
       "      <td>512890.17</td>\n",
       "      <td>15062</td>\n",
       "    </tr>\n",
       "    <tr>\n",
       "      <th>9</th>\n",
       "      <td>12</td>\n",
       "      <td>5431719175</td>\n",
       "      <td>64091729.0</td>\n",
       "      <td>1455445.0</td>\n",
       "      <td>522937.68</td>\n",
       "      <td>14011</td>\n",
       "    </tr>\n",
       "  </tbody>\n",
       "</table>\n",
       "</div>"
      ],
      "text/plain": [
       "  month_number  Unnamed: 0       birth        age      price  categ\n",
       "0           03  4825115524  56485184.0  1261114.0  479312.03  11764\n",
       "1           04  4779772392  56180727.0  1246095.0  472980.72  10581\n",
       "2           05  4769015405  55851818.0  1243396.0  489367.95  11413\n",
       "3           06  4519077169  53034239.0  1179625.0  481257.94  12602\n",
       "4           07  4190384043  48886368.0  1081296.0  480898.66  13125\n",
       "5           08  4335793076  50665130.0  1118290.0  479305.19  11850\n",
       "6           09  5592202830  65754257.0  1485331.0  502771.28  11016\n",
       "7           10  3628941025  42698007.0   930687.0  319159.96   3986\n",
       "8           11  4776248507  55895885.0  1259989.0  512890.17  15062\n",
       "9           12  5431719175  64091729.0  1455445.0  522937.68  14011"
      ]
     },
     "execution_count": 6,
     "metadata": {},
     "output_type": "execute_result"
    }
   ],
   "source": [
    "\n",
    "turnover_2021_month = turnover_2021.groupby('month_number').sum()\n",
    "turnover_2021_month = turnover_2021_month.reset_index()\n",
    "\n",
    "turnover_2021_month"
   ]
  },
  {
   "cell_type": "code",
   "execution_count": 7,
   "metadata": {},
   "outputs": [
    {
     "data": {
      "image/png": "[encoded data removed]",
      "text/plain": [
       "<Figure size 432x288 with 1 Axes>"
      ]
     },
     "metadata": {},
     "output_type": "display_data"
    }
   ],
   "source": [
    "ax = sns.barplot(x=\"month_number\", y=\"price\", data=turnover_2021_month)\n",
    "ax.set(xlabel='Mois', ylabel=\"Chiffre d'affaires\", title=\"Chiffre d'affaires année 2021\")\n",
    "plt.show()\n"
   ]
  },
  {
   "cell_type": "code",
   "execution_count": 8,
   "metadata": {},
   "outputs": [
    {
     "data": {
      "text/plain": [
       "count         7.000000\n",
       "mean     483699.110000\n",
       "std        9687.811369\n",
       "min      472980.720000\n",
       "25%      479308.610000\n",
       "50%      480898.660000\n",
       "75%      485312.945000\n",
       "max      502771.280000\n",
       "Name: price, dtype: float64"
      ]
     },
     "execution_count": 8,
     "metadata": {},
     "output_type": "execute_result"
    }
   ],
   "source": [
    "turnover_mars_sept = turnover_2021_month[(turnover_2021_month['month_number'] != '10') &(turnover_2021_month['month_number'] != '11')&(turnover_2021_month['month_number'] != '12')]\n",
    "turnover_mars_sept['price'].describe()"
   ]
  },
  {
   "cell_type": "markdown",
   "metadata": {},
   "source": [
    "#### La moyenne du chiffre d'affaires entre mars et septembre 2021 est de 483 699.10 euros "
   ]
  },
  {
   "cell_type": "code",
   "execution_count": 9,
   "metadata": {},
   "outputs": [
    {
     "data": {
      "text/html": [
       "<div>\n",
       "<style scoped>\n",
       "    .dataframe tbody tr th:only-of-type {\n",
       "        vertical-align: middle;\n",
       "    }\n",
       "\n",
       "    .dataframe tbody tr th {\n",
       "        vertical-align: top;\n",
       "    }\n",
       "\n",
       "    .dataframe thead th {\n",
       "        text-align: right;\n",
       "    }\n",
       "</style>\n",
       "<table border=\"1\" class=\"dataframe\">\n",
       "  <thead>\n",
       "    <tr style=\"text-align: right;\">\n",
       "      <th></th>\n",
       "      <th>categ</th>\n",
       "      <th>Unnamed: 0</th>\n",
       "      <th>birth</th>\n",
       "      <th>age</th>\n",
       "      <th>price</th>\n",
       "    </tr>\n",
       "  </thead>\n",
       "  <tbody>\n",
       "    <tr>\n",
       "      <th>0</th>\n",
       "      <td>0</td>\n",
       "      <td>3161278584</td>\n",
       "      <td>37093532.0</td>\n",
       "      <td>820990.0</td>\n",
       "      <td>199217.94</td>\n",
       "    </tr>\n",
       "    <tr>\n",
       "      <th>1</th>\n",
       "      <td>1</td>\n",
       "      <td>281019474</td>\n",
       "      <td>3289068.0</td>\n",
       "      <td>79584.0</td>\n",
       "      <td>33762.32</td>\n",
       "    </tr>\n",
       "    <tr>\n",
       "      <th>2</th>\n",
       "      <td>2</td>\n",
       "      <td>186642967</td>\n",
       "      <td>2315407.0</td>\n",
       "      <td>30113.0</td>\n",
       "      <td>86179.70</td>\n",
       "    </tr>\n",
       "  </tbody>\n",
       "</table>\n",
       "</div>"
      ],
      "text/plain": [
       "  categ  Unnamed: 0       birth       age      price\n",
       "0     0  3161278584  37093532.0  820990.0  199217.94\n",
       "1     1   281019474   3289068.0   79584.0   33762.32\n",
       "2     2   186642967   2315407.0   30113.0   86179.70"
      ]
     },
     "execution_count": 9,
     "metadata": {},
     "output_type": "execute_result"
    }
   ],
   "source": [
    "turnover_oct = turnover_2021[turnover_2021['month_number'] == '10']\n",
    "turnover_oct_cat = turnover_oct.groupby('categ').sum()\n",
    "turnover_oct_cat = turnover_oct_cat.reset_index()\n",
    "turnover_oct_cat['categ'] = turnover_oct_cat['categ'].apply(str)\n",
    "turnover_oct['categ'] = turnover_oct['categ'].apply(str)\n",
    "turnover_oct_cat"
   ]
  },
  {
   "cell_type": "markdown",
   "metadata": {},
   "source": [
    "##### Le chiffre d'affaires du mois d'octobre qui est de 319 159.96 euros est nettement inférieur à la moyenne des chiffres d'affaires des mois  qui le précèdent c'est à dire 483 699.10 euros"
   ]
  },
  {
   "cell_type": "markdown",
   "metadata": {},
   "source": [
    "### courbe de lorenz pour les prix par catégories : <a class=\"anchor\" id=\"lorenz\"></a>"
   ]
  },
  {
   "cell_type": "code",
   "execution_count": 10,
   "metadata": {},
   "outputs": [
    {
     "name": "stdout",
     "output_type": "stream",
     "text": [
      "0.7652664955892992\n"
     ]
    },
    {
     "data": {
      "image/png": "[encoded data removed]",
      "text/plain": [
       "<Figure size 432x288 with 1 Axes>"
      ]
     },
     "metadata": {},
     "output_type": "display_data"
    }
   ],
   "source": [
    "lorenz_plot(turnover_2021['price'])"
   ]
  },
  {
   "cell_type": "markdown",
   "metadata": {},
   "source": [
    "##### On constate que 76 % des produits représentent 50 % du chiffre d'affaires ce qui veut dire que les 24 % des produits restants représentent l'autre moitié du chiffre d'affaires."
   ]
  },
  {
   "cell_type": "markdown",
   "metadata": {},
   "source": [
    "### Chiffre d'affaires par catégorie pour le mois d'octobre : <a class=\"anchor\" id=\"turnovercategoct21\"></a>"
   ]
  },
  {
   "cell_type": "code",
   "execution_count": 11,
   "metadata": {},
   "outputs": [
    {
     "data": {
      "image/png": "[encoded data removed]",
      "text/plain": [
       "<Figure size 432x288 with 1 Axes>"
      ]
     },
     "metadata": {},
     "output_type": "display_data"
    }
   ],
   "source": [
    "ax2 = sns.barplot(x=\"categ\", y=\"price\", data=turnover_oct_cat)\n",
    "ax2.set(xlabel='Catégories', ylabel=\"Chiffre d'affaires\", title=\"Chiffre d'affaires par catégories mois d'octobre\")\n",
    "plt.show()\n"
   ]
  },
  {
   "cell_type": "markdown",
   "metadata": {},
   "source": [
    "#### Nombre de ventes par catégorie pour le mois d'octobre :"
   ]
  },
  {
   "cell_type": "code",
   "execution_count": 12,
   "metadata": {},
   "outputs": [
    {
     "data": {
      "image/png": "[encoded data removed]",
      "text/plain": [
       "<Figure size 432x288 with 1 Axes>"
      ]
     },
     "metadata": {},
     "output_type": "display_data"
    }
   ],
   "source": [
    "nb_sell_categ_oct = turnover_oct.groupby('categ').count().reset_index()\n",
    "\n",
    "ax3 = sns.barplot(x=\"categ\", y=\"price\", data=nb_sell_categ_oct)\n",
    "ax3.set(xlabel='Catégories', ylabel='Nombre de ventes', title=\"Nombre de vente par catégories mois d'octobre\")\n",
    "plt.show()\n"
   ]
  },
  {
   "cell_type": "markdown",
   "metadata": {},
   "source": [
    "#### Nombres de ventes par mois 2021 :"
   ]
  },
  {
   "cell_type": "code",
   "execution_count": 13,
   "metadata": {},
   "outputs": [
    {
     "data": {
      "text/plain": [
       "<seaborn.axisgrid.FacetGrid at 0x1285872b0>"
      ]
     },
     "execution_count": 13,
     "metadata": {},
     "output_type": "execute_result"
    },
    {
     "data": {
      "image/png": "[encoded data removed]",
      "text/plain": [
       "<Figure size 405.725x360 with 1 Axes>"
      ]
     },
     "metadata": {},
     "output_type": "display_data"
    }
   ],
   "source": [
    "nb_sells_2021_month = turnover_2021.groupby(['categ','month_number']).count().reset_index()\n",
    "nb_sells_2021_month = nb_sells_2021_month[['categ', 'month_number', 'price']]\n",
    "\n",
    "ax4 = sns.relplot(\n",
    "    data=nb_sells_2021_month,\n",
    "    x='month_number',\n",
    "    y='price',\n",
    "    hue='categ',\n",
    "    palette = 'tab10'\n",
    ")\n",
    "ax4.set(xlabel='Mois', ylabel='Nombre de ventes', title=\"Nombre de ventes par mois 2021\")\n"
   ]
  },
  {
   "cell_type": "code",
   "execution_count": 14,
   "metadata": {},
   "outputs": [
    {
     "data": {
      "image/png": "[encoded data removed]",
      "text/plain": [
       "<Figure size 432x288 with 1 Axes>"
      ]
     },
     "metadata": {},
     "output_type": "display_data"
    }
   ],
   "source": [
    "# nombre de ventes en moyenne par mois pour chaque catégorie \n",
    "\n",
    "mean_sell_month = turnover_2021.groupby(['categ','month_number']).count().reset_index()\n",
    "mean_sell_month  = mean_sell_month[['categ', 'month_number', 'price']].groupby('categ').mean().reset_index()\n",
    "mean_sell_month\n",
    "\n",
    "ax5 = sns.barplot(x=\"categ\", y=\"price\", data=mean_sell_month)\n",
    "ax5.set(xlabel='Catégories', ylabel='Nombre de ventes', title=\"Moyenne des ventes par catégories et par mois 2021\")\n",
    "plt.show()"
   ]
  },
  {
   "cell_type": "markdown",
   "metadata": {},
   "source": [
    "#### On constate que durant le mois d'octobre il y'a eu une nette diminution du nombre de ventes des livres de catégorie 1 ce nombre est largement en-dessous de la moyenne du nombre de ventes  par mois qui est d'environ 8000 alors que pour le mois d'octobre on atteint à peine les 2500 ventes ."
   ]
  },
  {
   "cell_type": "markdown",
   "metadata": {},
   "source": [
    "## Chiffre d'affaires par catégorie <a class=\"anchor\" id=\"turnover21categ\"></a>"
   ]
  },
  {
   "cell_type": "markdown",
   "metadata": {},
   "source": [
    "### Chiffre d'affaires par catégorie 2021 :"
   ]
  },
  {
   "cell_type": "code",
   "execution_count": 15,
   "metadata": {},
   "outputs": [
    {
     "data": {
      "image/png": "[encoded data removed]",
      "text/plain": [
       "<Figure size 432x288 with 1 Axes>"
      ]
     },
     "metadata": {},
     "output_type": "display_data"
    }
   ],
   "source": [
    "\n",
    "\n",
    "turnover_categ_2021 = turnover_2021.groupby('categ').sum().reset_index()\n",
    "\n",
    "ax6 = sns.barplot(x=\"categ\", y=\"price\", data=turnover_categ_2021)\n",
    "ax6.set(xlabel='Catégories', ylabel=\"chiffre d'affaires\", title=\"Chiffre d'affaires par catégories 2021\")\n",
    "\n",
    "plt.show()"
   ]
  },
  {
   "cell_type": "markdown",
   "metadata": {},
   "source": [
    "#### On constate que la catégorie de livre 0 est celle qui représente le plus gros chiffre d'affaires , suivie par la catégorie 1 et enfin la catégorie 2."
   ]
  },
  {
   "cell_type": "code",
   "execution_count": 16,
   "metadata": {},
   "outputs": [
    {
     "data": {
      "text/html": [
       "<div>\n",
       "<style scoped>\n",
       "    .dataframe tbody tr th:only-of-type {\n",
       "        vertical-align: middle;\n",
       "    }\n",
       "\n",
       "    .dataframe tbody tr th {\n",
       "        vertical-align: top;\n",
       "    }\n",
       "\n",
       "    .dataframe thead th {\n",
       "        text-align: right;\n",
       "    }\n",
       "</style>\n",
       "<table border=\"1\" class=\"dataframe\">\n",
       "  <thead>\n",
       "    <tr style=\"text-align: right;\">\n",
       "      <th></th>\n",
       "      <th>categ</th>\n",
       "      <th>Unnamed: 0</th>\n",
       "      <th>birth</th>\n",
       "      <th>age</th>\n",
       "      <th>price</th>\n",
       "    </tr>\n",
       "  </thead>\n",
       "  <tbody>\n",
       "    <tr>\n",
       "      <th>0</th>\n",
       "      <td>0</td>\n",
       "      <td>29840098492</td>\n",
       "      <td>349691958.0</td>\n",
       "      <td>7763268.0</td>\n",
       "      <td>1.882419e+06</td>\n",
       "    </tr>\n",
       "    <tr>\n",
       "      <th>1</th>\n",
       "      <td>1</td>\n",
       "      <td>14598717716</td>\n",
       "      <td>171211390.0</td>\n",
       "      <td>4128362.0</td>\n",
       "      <td>1.777996e+06</td>\n",
       "    </tr>\n",
       "    <tr>\n",
       "      <th>2</th>\n",
       "      <td>2</td>\n",
       "      <td>2409452938</td>\n",
       "      <td>28639996.0</td>\n",
       "      <td>369638.0</td>\n",
       "      <td>1.080466e+06</td>\n",
       "    </tr>\n",
       "  </tbody>\n",
       "</table>\n",
       "</div>"
      ],
      "text/plain": [
       "   categ   Unnamed: 0        birth        age         price\n",
       "0      0  29840098492  349691958.0  7763268.0  1.882419e+06\n",
       "1      1  14598717716  171211390.0  4128362.0  1.777996e+06\n",
       "2      2   2409452938   28639996.0   369638.0  1.080466e+06"
      ]
     },
     "execution_count": 16,
     "metadata": {},
     "output_type": "execute_result"
    }
   ],
   "source": [
    "turnover_categ_2021"
   ]
  },
  {
   "cell_type": "markdown",
   "metadata": {},
   "source": [
    "#### chiffre d'affaires par catégorie et par mois en 2021"
   ]
  },
  {
   "cell_type": "code",
   "execution_count": 17,
   "metadata": {},
   "outputs": [
    {
     "name": "stdout",
     "output_type": "stream",
     "text": [
      "       categ          price\n",
      "count   10.0      10.000000\n",
      "mean     0.0  188241.946000\n",
      "std      0.0   29739.329498\n",
      "min      0.0  144711.920000\n",
      "25%      0.0  167729.950000\n",
      "50%      0.0  194840.670000\n",
      "75%      0.0  203674.237500\n",
      "max      0.0  246264.210000\n",
      "       categ          price\n",
      "count   10.0      10.000000\n",
      "mean     1.0  177799.585000\n",
      "std      0.0   60620.232335\n",
      "min      1.0   33762.320000\n",
      "25%      1.0  163716.885000\n",
      "50%      1.0  187748.720000\n",
      "75%      1.0  190250.845000\n",
      "max      1.0  252910.390000\n",
      "       categ          price\n",
      "count   10.0      10.000000\n",
      "mean     2.0  108046.627000\n",
      "std      0.0   29803.546326\n",
      "min      2.0   65893.290000\n",
      "25%      2.0   89327.645000\n",
      "50%      2.0  107909.350000\n",
      "75%      2.0  126572.082500\n",
      "max      2.0  148635.990000\n"
     ]
    },
    {
     "data": {
      "image/png": "[encoded data removed]",
      "text/plain": [
       "<Figure size 432x288 with 1 Axes>"
      ]
     },
     "metadata": {},
     "output_type": "display_data"
    }
   ],
   "source": [
    "turnover_cat_2021_month = turnover_2021.groupby(['categ','month_number']).sum().reset_index()\n",
    "turnover_cat_2021_month = turnover_cat_2021_month[['categ', 'month_number', 'price']]\n",
    "\n",
    "ax6 = sns.barplot(\n",
    "    data=turnover_cat_2021_month,\n",
    "    x='month_number',\n",
    "    y='price',\n",
    "    hue='categ',\n",
    "    palette='tab10'\n",
    ")\n",
    "plt.legend(bbox_to_anchor=(1.05, 1), loc=2, borderaxespad=0.)\n",
    "ax6.set(xlabel='Mois', ylabel=\"chiffre d'affaires\", title=\"chiffre d'affaires par categorie et par mois 2021\")\n",
    "fig = ax6.get_figure()\n",
    "\n",
    "fig.savefig(\"graph/analyse/turnover_cat_month_2021\", pi=300)\n",
    "print(turnover_cat_2021_month[turnover_cat_2021_month['categ'] == 0].describe())\n",
    "print(turnover_cat_2021_month[turnover_cat_2021_month['categ'] == 1].describe())\n",
    "print(turnover_cat_2021_month[turnover_cat_2021_month['categ'] == 2].describe())"
   ]
  },
  {
   "cell_type": "markdown",
   "metadata": {},
   "source": [
    "### Nombre de ventes par catégories en 2021 :   \n",
    "<a class=\"anchor\" id=\"nbsell21categ\"></a>"
   ]
  },
  {
   "cell_type": "code",
   "execution_count": 19,
   "metadata": {},
   "outputs": [
    {
     "name": "stdout",
     "output_type": "stream",
     "text": [
      "   categ   price\n",
      "0      0  176783\n",
      "1      1   86716\n",
      "2      2   14347\n"
     ]
    },
    {
     "data": {
      "image/png": "[encoded data removed]",
      "text/plain": [
       "<Figure size 432x288 with 1 Axes>"
      ]
     },
     "metadata": {},
     "output_type": "display_data"
    }
   ],
   "source": [
    "# nombre de ventes par catégorie en 2021\n",
    "nb_sells_cat_2021 = turnover_2021.groupby('categ').count().reset_index()\n",
    "nb_sells_cat_2021 = nb_sells_cat_2021[['categ', 'price']]\n",
    "\n",
    "ax6 = sns.barplot(x=\"categ\", y=\"price\", data=nb_sells_cat_2021)\n",
    "ax6.set(xlabel='Catégories', ylabel=\"Nombre de ventes\", title=\"Nombre de ventes par catégories 2021\")\n",
    "print(nb_sells_cat_2021)"
   ]
  },
  {
   "cell_type": "markdown",
   "metadata": {},
   "source": [
    "#### Les produits de la catégorie 0 sont ceux qui se sont le plus vendus au cours de l'année 2021 avec 176 783 ventes\n",
    "#### Il y'a eu 86 716 ventes de produits de la catégorie 1\n",
    "#### il y'a eu 14 347 ventes de produits de la catégorie 2 "
   ]
  },
  {
   "cell_type": "markdown",
   "metadata": {},
   "source": [
    "###  nombre de ventes par jour  en octobre : <a class=\"anchor\" id=\"nbselloct21\"></a>"
   ]
  },
  {
   "cell_type": "code",
   "execution_count": 20,
   "metadata": {},
   "outputs": [
    {
     "data": {
      "text/plain": [
       "[Text(0.5, 0, 'Jours'),\n",
       " Text(0, 0.5, 'Nombre de ventes'),\n",
       " Text(0.5, 1.0, 'Nombre de ventes par catégories en octobre ')]"
      ]
     },
     "execution_count": 20,
     "metadata": {},
     "output_type": "execute_result"
    },
    {
     "data": {
      "image/png": "[encoded data removed]",
      "text/plain": [
       "<Figure size 720x720 with 1 Axes>"
      ]
     },
     "metadata": {},
     "output_type": "display_data"
    }
   ],
   "source": [
    "def day_format(s) :\n",
    "    return s[8:10]\n",
    "    \n",
    "turnover_oct['day'] = turnover_oct['date'].apply(day_format)\n",
    "\n",
    "turnover_oct_cat_1 = turnover_oct.groupby(['day','categ']).sum().reset_index()\n",
    "\n",
    "plt.subplots(figsize=(10, 10))\n",
    "ax7 = sns.barplot(x=\"day\", y=\"price\", hue='categ', data=turnover_oct_cat_1)\n",
    "ax7.set(xlabel='Jours', ylabel=\"Nombre de ventes\", title=\"Nombre de ventes par catégories en octobre \")\n"
   ]
  },
  {
   "cell_type": "markdown",
   "metadata": {},
   "source": [
    "#### Absence de vente des produits de la catégorie 1 du 2 octobre au 27 octobre "
   ]
  },
  {
   "cell_type": "markdown",
   "metadata": {},
   "source": [
    "### variation des prix par catégories : <a class=\"anchor\" id=\"pricevariation\"></a>"
   ]
  },
  {
   "cell_type": "code",
   "execution_count": 21,
   "metadata": {},
   "outputs": [
    {
     "data": {
      "image/png": "[encoded data removed]",
      "text/plain": [
       "<Figure size 360x720 with 1 Axes>"
      ]
     },
     "metadata": {},
     "output_type": "display_data"
    },
    {
     "name": "stdout",
     "output_type": "stream",
     "text": [
      "catégorie 0 count    176783.000000\n",
      "mean         10.648193\n",
      "std           4.933342\n",
      "min           0.620000\n",
      "25%           6.300000\n",
      "50%           9.990000\n",
      "75%          14.450000\n",
      "max          40.990000\n",
      "Name: price, dtype: float64\n",
      "catégorie 1 count    86716.000000\n",
      "mean        20.503665\n",
      "std          7.600012\n",
      "min          2.000000\n",
      "25%         15.810000\n",
      "50%         19.080000\n",
      "75%         24.980000\n",
      "max         80.990000\n",
      "Name: price, dtype: float64\n",
      "catégorie 2 count    14347.000000\n",
      "mean        75.309561\n",
      "std         39.039011\n",
      "min         30.990000\n",
      "25%         53.990000\n",
      "50%         62.830000\n",
      "75%         71.990000\n",
      "max        300.000000\n",
      "Name: price, dtype: float64\n"
     ]
    }
   ],
   "source": [
    "# variation des prix par catégorie \n",
    "turnover_2021_cat_0 = turnover_2021[turnover_2021['categ'] ==0]\n",
    "turnover_2021_cat_1 = turnover_2021[turnover_2021['categ'] ==1]\n",
    "turnover_2021_cat_2 = turnover_2021[turnover_2021['categ'] ==2]\n",
    "\n",
    "plt.subplots(figsize=(5, 10))\n",
    "ax8 =sns.boxplot(x = turnover_2021['categ'], y = turnover_2021['price'], palette='tab10', fliersize=0.9)\n",
    "ax8.set(xlabel='Catégories', ylabel=\"Prix\", title=\"Prix par catégories\")\n",
    "\n",
    "plt.show()\n",
    "\n",
    "print('catégorie 0',turnover_2021_cat_0['price'].describe())\n",
    "print('catégorie 1',turnover_2021_cat_1['price'].describe())\n",
    "print('catégorie 2',turnover_2021_cat_2['price'].describe())"
   ]
  },
  {
   "cell_type": "markdown",
   "metadata": {},
   "source": [
    "##### Pour la catégorie 0 : le minimun est de 62 centimes et le maximum de 40.99 euros, mais 75 % des prix sont inférieurs à 14.45 euros\n",
    "#####  * Pour la catégorie 1 : le minimum est de 2 euros et le maximum  de 80.99 euros, 75 % des prix sont au-dessus  de 15.81 euros \n",
    "#####  * Pour la catégorie 2 : le minimum est de 30.99 euros et le maximum  de 300 euros, 50 % des prix sont compris entre 53.99 et 71.99 euros"
   ]
  },
  {
   "cell_type": "markdown",
   "metadata": {},
   "source": [
    "### chiffre d'affaires par tranches d'âge : <a class=\"anchor\" id=\"turnoverage21\"></a>\n"
   ]
  },
  {
   "cell_type": "code",
   "execution_count": 22,
   "metadata": {},
   "outputs": [
    {
     "name": "stdout",
     "output_type": "stream",
     "text": [
      "  slice_age   Unnamed: 0        birth        age       price  categ\n",
      "0       20>   1297159280   15441045.0   140487.0   313201.87   9010\n",
      "1     21-30   4033096867   47860809.0   600465.0   989260.32  28778\n",
      "2     31-40  13680478689  161302672.0  2891816.0  1054551.94  18128\n",
      "3     41-50  15660988652  183369872.0  4158496.0  1197410.81  20396\n",
      "4     51-60   6488988418   75853192.0  2117150.0   633770.57  20781\n",
      "5     61-70   3597387898   41744727.0  1394643.0   351353.40  11635\n",
      "6     71-80   1442400899   16660437.0   639795.0   139218.01   4615\n",
      "7       80<    647768443    7310590.0   318416.0    62114.66   2067\n"
     ]
    },
    {
     "data": {
      "text/plain": [
       "[Text(0.5, 0, \"Catégories d'âge\"),\n",
       " Text(0, 0.5, \"Chiffre d'affaires\"),\n",
       " Text(0.5, 1.0, \"Chiffre d'affaires par tranches d'âge 2021\")]"
      ]
     },
     "execution_count": 22,
     "metadata": {},
     "output_type": "execute_result"
    },
    {
     "data": {
      "image/png": "[encoded data removed]",
      "text/plain": [
       "<Figure size 432x288 with 1 Axes>"
      ]
     },
     "metadata": {},
     "output_type": "display_data"
    }
   ],
   "source": [
    "slice_age = turnover_2021.groupby('slice_age').sum().reset_index()\n",
    "print(slice_age)\n",
    "ax8 = sns.barplot(\n",
    "    data=slice_age,\n",
    "    x='slice_age',\n",
    "    y='price',\n",
    "    \n",
    ")\n",
    "ax8.set(xlabel=\"Catégories d'âge\", ylabel=\"Chiffre d'affaires\", title=\"Chiffre d'affaires par tranches d'âge 2021\")\n"
   ]
  },
  {
   "cell_type": "markdown",
   "metadata": {},
   "source": [
    "#### Le plus gros chiffre d'affaires est réalisé par la tranche d'âge des 41-50 ans \n",
    "#### Le plus petit chiffre d'affaires est réalisé par la tranche d'âge des plus de 80 ans"
   ]
  },
  {
   "cell_type": "markdown",
   "metadata": {},
   "source": [
    "### nombre de ventes par tranches d'âge :  <a class=\"anchor\" id=\"nbsellage21\"></a>"
   ]
  },
  {
   "cell_type": "code",
   "execution_count": 23,
   "metadata": {},
   "outputs": [
    {
     "data": {
      "text/plain": [
       "[Text(0.5, 0, \"Catégories d'âge\"),\n",
       " Text(0, 0.5, 'Nombre de ventes'),\n",
       " Text(0.5, 1.0, \"Nombre de ventes par tranches d'âge 2021\")]"
      ]
     },
     "execution_count": 23,
     "metadata": {},
     "output_type": "execute_result"
    },
    {
     "data": {
      "image/png": "[encoded data removed]",
      "text/plain": [
       "<Figure size 432x288 with 1 Axes>"
      ]
     },
     "metadata": {},
     "output_type": "display_data"
    }
   ],
   "source": [
    "nb_sell_slice_age = turnover_2021.groupby('slice_age').count().reset_index()\n",
    "ax9 = sns.barplot(\n",
    "    data=nb_sell_slice_age,\n",
    "    x='slice_age',\n",
    "    y='price',\n",
    "    \n",
    ")\n",
    "ax9.set(xlabel=\"Catégories d'âge\", ylabel=\"Nombre de ventes\", title=\"Nombre de ventes par tranches d'âge 2021\")"
   ]
  },
  {
   "cell_type": "markdown",
   "metadata": {},
   "source": [
    "## Chiffre d'affaires par genre  <a class=\"anchor\" id=\"turnover21sex\"></a>"
   ]
  },
  {
   "cell_type": "code",
   "execution_count": 26,
   "metadata": {},
   "outputs": [
    {
     "data": {
      "image/png": "[encoded data removed]",
      "text/plain": [
       "<Figure size 432x288 with 1 Axes>"
      ]
     },
     "metadata": {},
     "output_type": "display_data"
    }
   ],
   "source": [
    "# chiffre d'affaires par genre \n",
    "df_gender = turnover_2021.groupby('gender').sum().reset_index()\n",
    "df_gender = df_gender[['gender', 'price']]\n",
    "fig10 = plt.figure()\n",
    "ax10 = plt.axes()\n",
    "ax10.pie(df_gender['price'], labels=['f', 'm'], autopct = lambda x: str(round(x, 2)) + '%', explode=[0.05,0])\n",
    "ax10.set(title=\"Chiffre d'affaires par genre 2021\")\n",
    "plt.show()\n",
    "\n"
   ]
  },
  {
   "cell_type": "markdown",
   "metadata": {},
   "source": [
    "##### Sur l'année 2021 les clients de genre féminin représentent 49,27 % du chiffre d'affaires et les clients de genre masculin 50.73 % du chiffre d'affaires ."
   ]
  },
  {
   "cell_type": "code",
   "execution_count": 28,
   "metadata": {},
   "outputs": [
    {
     "data": {
      "text/plain": [
       "[Text(0.5, 0, \"Catégories d'âge\"),\n",
       " Text(0, 0.5, 'Nombre de ventes'),\n",
       " Text(0.5, 1.0, \"Nombre de ventes par tranches d'âge et par genre 2021\")]"
      ]
     },
     "execution_count": 28,
     "metadata": {},
     "output_type": "execute_result"
    },
    {
     "data": {
      "image/png": "[encoded data removed]",
      "text/plain": [
       "<Figure size 432x288 with 1 Axes>"
      ]
     },
     "metadata": {},
     "output_type": "display_data"
    }
   ],
   "source": [
    "df_gender_age = turnover_2021.groupby(['gender', 'slice_age']).count().reset_index()\n",
    "\n",
    "ax11 = sns.barplot(x=\"slice_age\", y=\"price\", hue='gender', data=df_gender_age)\n",
    "ax11.set(xlabel=\"Catégories d'âge\", ylabel=\"Nombre de ventes\", title=\"Nombre de ventes par tranches d'âge et par genre 2021\")"
   ]
  },
  {
   "cell_type": "markdown",
   "metadata": {},
   "source": [
    "##### Les hommes entre 40 et 50 ans sont ceux qui sont les plus représentés"
   ]
  },
  {
   "cell_type": "code",
   "execution_count": 29,
   "metadata": {},
   "outputs": [
    {
     "data": {
      "text/plain": [
       "[Text(0.5, 0, \"Catégories d'âge\"),\n",
       " Text(0, 0.5, \"Chiffre d'affaires\"),\n",
       " Text(0.5, 1.0, \"Chiffre d'affaires par tranches d'âge et par genre 2021\")]"
      ]
     },
     "execution_count": 29,
     "metadata": {},
     "output_type": "execute_result"
    },
    {
     "data": {
      "image/png": "[encoded data removed]",
      "text/plain": [
       "<Figure size 432x288 with 1 Axes>"
      ]
     },
     "metadata": {},
     "output_type": "display_data"
    }
   ],
   "source": [
    "df_gender_age_turnover = turnover_2021.groupby(['gender', 'slice_age']).sum().reset_index()\n",
    "\n",
    "ax9 = sns.barplot(x=\"slice_age\", y=\"price\", hue='gender', data=df_gender_age_turnover)\n",
    "ax9.set(xlabel=\"Catégories d'âge\", ylabel=\"Chiffre d'affaires\", title=\"Chiffre d'affaires par tranches d'âge et par genre 2021\")"
   ]
  },
  {
   "cell_type": "markdown",
   "metadata": {},
   "source": [
    "#### Les hommes entre 41 et 50 ans sont ceux qui  produisent  le plus gros chiffre d'affaires"
   ]
  },
  {
   "cell_type": "markdown",
   "metadata": {},
   "source": [
    "### Chiffre d'affaires et ventes  par genre , par âge et par catégorie : <a class=\"anchor\" id=\"turnovercateggender21\"></a>"
   ]
  },
  {
   "cell_type": "code",
   "execution_count": 31,
   "metadata": {},
   "outputs": [
    {
     "data": {
      "text/plain": [
       "<seaborn.axisgrid.FacetGrid at 0x12b20e880>"
      ]
     },
     "execution_count": 31,
     "metadata": {},
     "output_type": "execute_result"
    },
    {
     "data": {
      "image/png": "[encoded data removed]",
      "text/plain": [
       "<Figure size 765.725x360 with 2 Axes>"
      ]
     },
     "metadata": {},
     "output_type": "display_data"
    }
   ],
   "source": [
    "# chiffre d'affaires par genre dans chaque catégorie\n",
    "turnover_gender_categ_2021 = turnover_2021.groupby(['gender', 'slice_age', 'categ']).sum().reset_index()\n",
    "ax11 = sns.catplot(x=\"slice_age\", y=\"price\",\n",
    "                hue=\"categ\", col=\"gender\",\n",
    "                data=turnover_gender_categ_2021, kind=\"bar\");\n",
    "ax11.set(xlabel=\"Tranches d'âge\", ylabel=\"Chiffre d'affaires\")"
   ]
  },
  {
   "cell_type": "code",
   "execution_count": 33,
   "metadata": {},
   "outputs": [
    {
     "data": {
      "text/plain": [
       "<seaborn.axisgrid.FacetGrid at 0x130e9f640>"
      ]
     },
     "execution_count": 33,
     "metadata": {},
     "output_type": "execute_result"
    },
    {
     "data": {
      "image/png": "[encoded data removed]",
      "text/plain": [
       "<Figure size 765.725x360 with 2 Axes>"
      ]
     },
     "metadata": {},
     "output_type": "display_data"
    }
   ],
   "source": [
    "# nombre de ventes par genre dans chaque catégorie \n",
    "nb_sells_gender_categ_2021 = turnover_2021.groupby(['gender', 'slice_age', 'categ']).count().reset_index()\n",
    "ax12 = sns.catplot(x=\"slice_age\", y=\"price\",\n",
    "                hue=\"categ\", col=\"gender\",\n",
    "                data=nb_sells_gender_categ_2021, kind=\"bar\");\n",
    "ax12.set(xlabel=\"Tranches d'âge\", ylabel=\"Nombre de ventes\")"
   ]
  },
  {
   "cell_type": "markdown",
   "metadata": {},
   "source": [
    "### Panier : <a class=\"anchor\" id=\"basket\"></a>"
   ]
  },
  {
   "cell_type": "code",
   "execution_count": 34,
   "metadata": {},
   "outputs": [
    {
     "data": {
      "text/plain": [
       "[Text(0.5, 0, 'Genre'),\n",
       " Text(0, 0.5, \"Nombre d'articles\"),\n",
       " Text(0.5, 1.0, \"Nombre d'articles par panier selon le genre\")]"
      ]
     },
     "execution_count": 34,
     "metadata": {},
     "output_type": "execute_result"
    },
    {
     "data": {
      "image/png": "[encoded data removed]",
      "text/plain": [
       "<Figure size 432x288 with 1 Axes>"
      ]
     },
     "metadata": {},
     "output_type": "display_data"
    }
   ],
   "source": [
    "basket_gender = turnover_2021.groupby(['session_id', 'gender']).count().reset_index()\n",
    "basket_gender = basket_gender[['gender','price']]\n",
    "\n",
    "ax13 = sns.boxplot(x=\"gender\", y='price', data=basket_gender)\n",
    "ax13.set(xlabel=\"Genre\", ylabel=\"Nombre d'articles\", title=\"Nombre d'articles par panier selon le genre\")\n"
   ]
  },
  {
   "cell_type": "code",
   "execution_count": 313,
   "metadata": {},
   "outputs": [
    {
     "name": "stdout",
     "output_type": "stream",
     "text": [
      "<class 'pandas.core.frame.DataFrame'>\n",
      "RangeIndex: 48 entries, 0 to 47\n",
      "Data columns (total 4 columns):\n",
      " #   Column     Non-Null Count  Dtype  \n",
      "---  ------     --------------  -----  \n",
      " 0   slice_age  48 non-null     object \n",
      " 1   categ      48 non-null     int64  \n",
      " 2   gender     48 non-null     object \n",
      " 3   price      48 non-null     float64\n",
      "dtypes: float64(1), int64(1), object(2)\n",
      "memory usage: 1.6+ KB\n"
     ]
    },
    {
     "data": {
      "image/png": "[encoded data removed]",
      "text/plain": [
       "<Figure size 765.725x360 with 2 Axes>"
      ]
     },
     "metadata": {},
     "output_type": "display_data"
    }
   ],
   "source": [
    "basket_categ = turnover_2021.groupby(['session_id', 'slice_age', 'categ','gender']).count().reset_index()\n",
    "basket_categ = basket_categ[['slice_age', 'categ', 'price','gender']].groupby(['slice_age', 'categ','gender']).mean().reset_index()\n",
    "basket_categ.info()\n",
    "ax13 = sns.catplot(x=\"slice_age\", y=\"price\", hue='categ', col=\"gender\", data=basket_categ, kind=\"bar\")"
   ]
  },
  {
   "cell_type": "markdown",
   "metadata": {},
   "source": [
    "### 2022 : <a class=\"anchor\" id=\"2022\"></a>"
   ]
  },
  {
   "cell_type": "code",
   "execution_count": 295,
   "metadata": {},
   "outputs": [
    {
     "data": {
      "text/plain": [
       "1055696.1900000002"
      ]
     },
     "execution_count": 295,
     "metadata": {},
     "output_type": "execute_result"
    }
   ],
   "source": [
    "turnover_2022_value = turnover_2022['price'].sum()\n",
    "turnover_2022_value"
   ]
  },
  {
   "cell_type": "code",
   "execution_count": 35,
   "metadata": {},
   "outputs": [
    {
     "data": {
      "image/png": "[encoded data removed]",
      "text/plain": [
       "<Figure size 432x288 with 1 Axes>"
      ]
     },
     "metadata": {},
     "output_type": "display_data"
    }
   ],
   "source": [
    "turnover_2022_month  = turnover_2022.groupby('month_number').sum().reset_index()\n",
    "ax = sns.barplot(x=\"month_number\", y=\"price\", data=turnover_2022_month)\n",
    "ax.set(xlabel='Mois', ylabel=\"Chiffre d'affaires\", title=\"Chiffre d'affaires année 2022\")\n",
    "plt.show()"
   ]
  },
  {
   "cell_type": "markdown",
   "metadata": {},
   "source": [
    "#### Chiffre d'affaires  de 1 055 696.19 euros"
   ]
  },
  {
   "cell_type": "markdown",
   "metadata": {},
   "source": [
    "# Partie 3 : <a class=\"anchor\" id=\"correlation\"></a>"
   ]
  },
  {
   "cell_type": "markdown",
   "metadata": {},
   "source": [
    "## Question 1 : Y a-t-il une corrélation entre le sexe des clients et les catégories de produits achetés ?"
   ]
  },
  {
   "cell_type": "code",
   "execution_count": 298,
   "metadata": {},
   "outputs": [
    {
     "data": {
      "text/html": [
       "<div>\n",
       "<style scoped>\n",
       "    .dataframe tbody tr th:only-of-type {\n",
       "        vertical-align: middle;\n",
       "    }\n",
       "\n",
       "    .dataframe tbody tr th {\n",
       "        vertical-align: top;\n",
       "    }\n",
       "\n",
       "    .dataframe thead th {\n",
       "        text-align: right;\n",
       "    }\n",
       "</style>\n",
       "<table border=\"1\" class=\"dataframe\">\n",
       "  <thead>\n",
       "    <tr style=\"text-align: right;\">\n",
       "      <th>categ</th>\n",
       "      <th>0</th>\n",
       "      <th>1</th>\n",
       "      <th>2</th>\n",
       "      <th>Total</th>\n",
       "    </tr>\n",
       "    <tr>\n",
       "      <th>gender</th>\n",
       "      <th></th>\n",
       "      <th></th>\n",
       "      <th></th>\n",
       "      <th></th>\n",
       "    </tr>\n",
       "  </thead>\n",
       "  <tbody>\n",
       "    <tr>\n",
       "      <th>f</th>\n",
       "      <td>103786</td>\n",
       "      <td>55469</td>\n",
       "      <td>8260</td>\n",
       "      <td>167515</td>\n",
       "    </tr>\n",
       "    <tr>\n",
       "      <th>m</th>\n",
       "      <td>105640</td>\n",
       "      <td>54266</td>\n",
       "      <td>9292</td>\n",
       "      <td>169198</td>\n",
       "    </tr>\n",
       "    <tr>\n",
       "      <th>Total</th>\n",
       "      <td>209426</td>\n",
       "      <td>109735</td>\n",
       "      <td>17552</td>\n",
       "      <td>336713</td>\n",
       "    </tr>\n",
       "  </tbody>\n",
       "</table>\n",
       "</div>"
      ],
      "text/plain": [
       "categ        0       1      2   Total\n",
       "gender                               \n",
       "f       103786   55469   8260  167515\n",
       "m       105640   54266   9292  169198\n",
       "Total   209426  109735  17552  336713"
      ]
     },
     "execution_count": 298,
     "metadata": {},
     "output_type": "execute_result"
    }
   ],
   "source": [
    "X = 'gender'\n",
    "Y = 'categ'\n",
    "\n",
    "cont = df_general[[X,Y]].pivot_table(index=X,columns=Y,aggfunc=len,margins=True,margins_name=\"Total\")\n",
    "cont"
   ]
  },
  {
   "cell_type": "code",
   "execution_count": 299,
   "metadata": {},
   "outputs": [
    {
     "data": {
      "image/png": "[encoded data removed]",
      "text/plain": [
       "<Figure size 432x288 with 2 Axes>"
      ]
     },
     "metadata": {},
     "output_type": "display_data"
    },
    {
     "name": "stdout",
     "output_type": "stream",
     "text": [
      "81.86933350990711\n"
     ]
    }
   ],
   "source": [
    "tx = cont.loc[:,[\"Total\"]]\n",
    "ty = cont.loc[[\"Total\"],:]\n",
    "n = len(df_general)\n",
    "indep = tx.dot(ty) / n\n",
    "\n",
    "c = cont.fillna(0) # On remplace les valeurs nulles par 0\n",
    "measure = (c-indep)**2/indep\n",
    "xi_n = measure.sum().sum()\n",
    "table = measure/xi_n\n",
    "ax17 = sns.heatmap(table.iloc[:-1,:-1],annot=c.iloc[:-1,:-1])\n",
    "ax17.set(xlabel=\"catégorie\", ylabel=\"Genre\", title=\"heatmap\")\n",
    "\n",
    "plt.show()\n",
    "print(xi_n)\n",
    "fig = ax17.get_figure()\n",
    "fig.savefig(\"graph/correlation/question_1/heatmap_correl_1.jpeg\")"
   ]
  },
  {
   "cell_type": "markdown",
   "metadata": {},
   "source": [
    "#### khi-2 de 81.86"
   ]
  },
  {
   "cell_type": "markdown",
   "metadata": {},
   "source": [
    "#### Il y'a une légere corrélation entre le sexe et les catégories . cette corrélation est plus forte pour la catégorie 2 ."
   ]
  },
  {
   "cell_type": "markdown",
   "metadata": {},
   "source": [
    "### Question 2.1 : Y a-t-il une corrélation entre l'âge des clients et le montant total des achats ?"
   ]
  },
  {
   "cell_type": "code",
   "execution_count": 300,
   "metadata": {},
   "outputs": [
    {
     "data": {
      "text/html": [
       "<div>\n",
       "<style scoped>\n",
       "    .dataframe tbody tr th:only-of-type {\n",
       "        vertical-align: middle;\n",
       "    }\n",
       "\n",
       "    .dataframe tbody tr th {\n",
       "        vertical-align: top;\n",
       "    }\n",
       "\n",
       "    .dataframe thead th {\n",
       "        text-align: right;\n",
       "    }\n",
       "</style>\n",
       "<table border=\"1\" class=\"dataframe\">\n",
       "  <thead>\n",
       "    <tr style=\"text-align: right;\">\n",
       "      <th></th>\n",
       "      <th>client_id</th>\n",
       "      <th>slice_age</th>\n",
       "      <th>price</th>\n",
       "      <th>age</th>\n",
       "    </tr>\n",
       "  </thead>\n",
       "  <tbody>\n",
       "    <tr>\n",
       "      <th>0</th>\n",
       "      <td>c_1</td>\n",
       "      <td>61-70</td>\n",
       "      <td>300.65</td>\n",
       "      <td>1340.0</td>\n",
       "    </tr>\n",
       "    <tr>\n",
       "      <th>1</th>\n",
       "      <td>c_10</td>\n",
       "      <td>61-70</td>\n",
       "      <td>586.18</td>\n",
       "      <td>1848.0</td>\n",
       "    </tr>\n",
       "    <tr>\n",
       "      <th>2</th>\n",
       "      <td>c_100</td>\n",
       "      <td>21-30</td>\n",
       "      <td>222.87</td>\n",
       "      <td>180.0</td>\n",
       "    </tr>\n",
       "    <tr>\n",
       "      <th>3</th>\n",
       "      <td>c_1000</td>\n",
       "      <td>51-60</td>\n",
       "      <td>980.02</td>\n",
       "      <td>3136.0</td>\n",
       "    </tr>\n",
       "    <tr>\n",
       "      <th>4</th>\n",
       "      <td>c_1001</td>\n",
       "      <td>31-40</td>\n",
       "      <td>1102.45</td>\n",
       "      <td>2320.0</td>\n",
       "    </tr>\n",
       "    <tr>\n",
       "      <th>...</th>\n",
       "      <td>...</td>\n",
       "      <td>...</td>\n",
       "      <td>...</td>\n",
       "      <td>...</td>\n",
       "    </tr>\n",
       "    <tr>\n",
       "      <th>8595</th>\n",
       "      <td>c_995</td>\n",
       "      <td>61-70</td>\n",
       "      <td>119.08</td>\n",
       "      <td>536.0</td>\n",
       "    </tr>\n",
       "    <tr>\n",
       "      <th>8596</th>\n",
       "      <td>c_996</td>\n",
       "      <td>51-60</td>\n",
       "      <td>739.60</td>\n",
       "      <td>2184.0</td>\n",
       "    </tr>\n",
       "    <tr>\n",
       "      <th>8597</th>\n",
       "      <td>c_997</td>\n",
       "      <td>21-30</td>\n",
       "      <td>572.89</td>\n",
       "      <td>644.0</td>\n",
       "    </tr>\n",
       "    <tr>\n",
       "      <th>8598</th>\n",
       "      <td>c_998</td>\n",
       "      <td>21-30</td>\n",
       "      <td>1527.69</td>\n",
       "      <td>588.0</td>\n",
       "    </tr>\n",
       "    <tr>\n",
       "      <th>8599</th>\n",
       "      <td>c_999</td>\n",
       "      <td>51-60</td>\n",
       "      <td>305.00</td>\n",
       "      <td>1276.0</td>\n",
       "    </tr>\n",
       "  </tbody>\n",
       "</table>\n",
       "<p>8600 rows × 4 columns</p>\n",
       "</div>"
      ],
      "text/plain": [
       "     client_id slice_age    price     age\n",
       "0          c_1     61-70   300.65  1340.0\n",
       "1         c_10     61-70   586.18  1848.0\n",
       "2        c_100     21-30   222.87   180.0\n",
       "3       c_1000     51-60   980.02  3136.0\n",
       "4       c_1001     31-40  1102.45  2320.0\n",
       "...        ...       ...      ...     ...\n",
       "8595     c_995     61-70   119.08   536.0\n",
       "8596     c_996     51-60   739.60  2184.0\n",
       "8597     c_997     21-30   572.89   644.0\n",
       "8598     c_998     21-30  1527.69   588.0\n",
       "8599     c_999     51-60   305.00  1276.0\n",
       "\n",
       "[8600 rows x 4 columns]"
      ]
     },
     "execution_count": 300,
     "metadata": {},
     "output_type": "execute_result"
    }
   ],
   "source": [
    "X = 'slice_age'\n",
    "Y = 'price'\n",
    "\n",
    "# regrouper les données par client_id \n",
    "sous_ech1 = df_general[['slice_age', 'price', 'age', 'client_id']].groupby(['client_id', 'slice_age']).sum().reset_index()\n",
    "sous_ech1\n",
    "\n"
   ]
  },
  {
   "cell_type": "code",
   "execution_count": 301,
   "metadata": {},
   "outputs": [
    {
     "data": {
      "image/png": "[encoded data removed]",
      "text/plain": [
       "<Figure size 432x288 with 1 Axes>"
      ]
     },
     "metadata": {},
     "output_type": "display_data"
    }
   ],
   "source": [
    "modalites = sous_ech1[X].unique()\n",
    "groupes = []\n",
    "for m in modalites:\n",
    "    groupes.append(sous_ech1[sous_ech1[X]==m][Y])\n",
    "\n",
    "# Propriétés graphiques (pas très importantes)    \n",
    "medianprops = {'color':\"black\"}\n",
    "meanprops = {'marker':'o', 'markeredgecolor':'black',\n",
    "            'markerfacecolor':'firebrick'}\n",
    "fig12 = plt.figure()\n",
    "ax12 = plt.axes()  \n",
    "ax12.boxplot(groupes, labels=modalites, showfliers=False, medianprops=medianprops, \n",
    "            vert=True, patch_artist=True, showmeans=True, meanprops=meanprops )\n",
    "ax12.set(xlabel=\"Tranches d'âge\", ylabel=\"Montant total des achats\", title=\"Montant total des achats par tranches d'âge\")\n",
    "\n",
    "plt.show()\n",
    "fig = ax12.get_figure()\n",
    "fig.savefig(\"graph/correlation/question_2/boxplot_correl_2.jpeg\")"
   ]
  },
  {
   "cell_type": "code",
   "execution_count": 302,
   "metadata": {},
   "outputs": [],
   "source": [
    "def eta_squared(x,y):\n",
    "    moyenne_y = y.mean()\n",
    "    classes = []\n",
    "    for classe in x.unique():\n",
    "        yi_classe = y[x==classe]\n",
    "        classes.append({'ni': len(yi_classe),\n",
    "                        'moyenne_classe': yi_classe.mean()})\n",
    "    SCT = sum([(yj-moyenne_y)**2 for yj in y])\n",
    "    SCE = sum([c['ni']*(c['moyenne_classe']-moyenne_y)**2 for c in classes])\n",
    "    return SCE/SCT"
   ]
  },
  {
   "cell_type": "code",
   "execution_count": 303,
   "metadata": {},
   "outputs": [
    {
     "data": {
      "text/plain": [
       "0.003099722940922621"
      ]
     },
     "execution_count": 303,
     "metadata": {},
     "output_type": "execute_result"
    }
   ],
   "source": [
    "eta_squared(sous_ech1[X],sous_ech1[Y])"
   ]
  },
  {
   "cell_type": "markdown",
   "metadata": {},
   "source": [
    "##### Il y'a une très faible corrélation entre l'âge des clients et le montant total des achats."
   ]
  },
  {
   "cell_type": "markdown",
   "metadata": {},
   "source": [
    "### Question 2.2 : Y a-t-il une corrélation entre l'âge des clients et la fréquence d’achat ?"
   ]
  },
  {
   "cell_type": "code",
   "execution_count": 304,
   "metadata": {},
   "outputs": [
    {
     "data": {
      "text/html": [
       "<div>\n",
       "<style scoped>\n",
       "    .dataframe tbody tr th:only-of-type {\n",
       "        vertical-align: middle;\n",
       "    }\n",
       "\n",
       "    .dataframe tbody tr th {\n",
       "        vertical-align: top;\n",
       "    }\n",
       "\n",
       "    .dataframe thead th {\n",
       "        text-align: right;\n",
       "    }\n",
       "</style>\n",
       "<table border=\"1\" class=\"dataframe\">\n",
       "  <thead>\n",
       "    <tr style=\"text-align: right;\">\n",
       "      <th></th>\n",
       "      <th>month_number</th>\n",
       "      <th>client_id</th>\n",
       "      <th>slice_age_x</th>\n",
       "      <th>price</th>\n",
       "      <th>age</th>\n",
       "      <th>slice_age_y</th>\n",
       "    </tr>\n",
       "  </thead>\n",
       "  <tbody>\n",
       "    <tr>\n",
       "      <th>0</th>\n",
       "      <td>01</td>\n",
       "      <td>c_1000</td>\n",
       "      <td>3</td>\n",
       "      <td>3</td>\n",
       "      <td>3</td>\n",
       "      <td>51-60</td>\n",
       "    </tr>\n",
       "    <tr>\n",
       "      <th>1</th>\n",
       "      <td>01</td>\n",
       "      <td>c_1000</td>\n",
       "      <td>3</td>\n",
       "      <td>3</td>\n",
       "      <td>3</td>\n",
       "      <td>51-60</td>\n",
       "    </tr>\n",
       "    <tr>\n",
       "      <th>2</th>\n",
       "      <td>01</td>\n",
       "      <td>c_1000</td>\n",
       "      <td>3</td>\n",
       "      <td>3</td>\n",
       "      <td>3</td>\n",
       "      <td>51-60</td>\n",
       "    </tr>\n",
       "    <tr>\n",
       "      <th>3</th>\n",
       "      <td>01</td>\n",
       "      <td>c_1000</td>\n",
       "      <td>3</td>\n",
       "      <td>3</td>\n",
       "      <td>3</td>\n",
       "      <td>51-60</td>\n",
       "    </tr>\n",
       "    <tr>\n",
       "      <th>4</th>\n",
       "      <td>01</td>\n",
       "      <td>c_1000</td>\n",
       "      <td>3</td>\n",
       "      <td>3</td>\n",
       "      <td>3</td>\n",
       "      <td>51-60</td>\n",
       "    </tr>\n",
       "    <tr>\n",
       "      <th>...</th>\n",
       "      <td>...</td>\n",
       "      <td>...</td>\n",
       "      <td>...</td>\n",
       "      <td>...</td>\n",
       "      <td>...</td>\n",
       "      <td>...</td>\n",
       "    </tr>\n",
       "    <tr>\n",
       "      <th>3412978</th>\n",
       "      <td>12</td>\n",
       "      <td>c_8498</td>\n",
       "      <td>2</td>\n",
       "      <td>2</td>\n",
       "      <td>2</td>\n",
       "      <td>21-30</td>\n",
       "    </tr>\n",
       "    <tr>\n",
       "      <th>3412979</th>\n",
       "      <td>12</td>\n",
       "      <td>c_8498</td>\n",
       "      <td>2</td>\n",
       "      <td>2</td>\n",
       "      <td>2</td>\n",
       "      <td>21-30</td>\n",
       "    </tr>\n",
       "    <tr>\n",
       "      <th>3412980</th>\n",
       "      <td>12</td>\n",
       "      <td>c_8531</td>\n",
       "      <td>3</td>\n",
       "      <td>3</td>\n",
       "      <td>3</td>\n",
       "      <td>20&gt;</td>\n",
       "    </tr>\n",
       "    <tr>\n",
       "      <th>3412981</th>\n",
       "      <td>12</td>\n",
       "      <td>c_8531</td>\n",
       "      <td>3</td>\n",
       "      <td>3</td>\n",
       "      <td>3</td>\n",
       "      <td>20&gt;</td>\n",
       "    </tr>\n",
       "    <tr>\n",
       "      <th>3412982</th>\n",
       "      <td>12</td>\n",
       "      <td>c_8531</td>\n",
       "      <td>3</td>\n",
       "      <td>3</td>\n",
       "      <td>3</td>\n",
       "      <td>20&gt;</td>\n",
       "    </tr>\n",
       "  </tbody>\n",
       "</table>\n",
       "<p>3412983 rows × 6 columns</p>\n",
       "</div>"
      ],
      "text/plain": [
       "        month_number client_id  slice_age_x  price  age slice_age_y\n",
       "0                 01    c_1000            3      3    3       51-60\n",
       "1                 01    c_1000            3      3    3       51-60\n",
       "2                 01    c_1000            3      3    3       51-60\n",
       "3                 01    c_1000            3      3    3       51-60\n",
       "4                 01    c_1000            3      3    3       51-60\n",
       "...              ...       ...          ...    ...  ...         ...\n",
       "3412978           12    c_8498            2      2    2       21-30\n",
       "3412979           12    c_8498            2      2    2       21-30\n",
       "3412980           12    c_8531            3      3    3         20>\n",
       "3412981           12    c_8531            3      3    3         20>\n",
       "3412982           12    c_8531            3      3    3         20>\n",
       "\n",
       "[3412983 rows x 6 columns]"
      ]
     },
     "execution_count": 304,
     "metadata": {},
     "output_type": "execute_result"
    }
   ],
   "source": [
    "sous_ech3 = df_general[['slice_age', 'price', 'age', 'client_id', 'month_number']].groupby(['month_number','client_id']).count().reset_index()\n",
    "sous_ech4 = df_general[['client_id', 'slice_age']]\n",
    "\n",
    "sous_echantillon1 = sous_ech3.merge(sous_ech4, on='client_id')\n",
    "sous_echantillon1"
   ]
  },
  {
   "cell_type": "code",
   "execution_count": 305,
   "metadata": {},
   "outputs": [
    {
     "data": {
      "text/html": [
       "<div>\n",
       "<style scoped>\n",
       "    .dataframe tbody tr th:only-of-type {\n",
       "        vertical-align: middle;\n",
       "    }\n",
       "\n",
       "    .dataframe tbody tr th {\n",
       "        vertical-align: top;\n",
       "    }\n",
       "\n",
       "    .dataframe thead th {\n",
       "        text-align: right;\n",
       "    }\n",
       "</style>\n",
       "<table border=\"1\" class=\"dataframe\">\n",
       "  <thead>\n",
       "    <tr style=\"text-align: right;\">\n",
       "      <th></th>\n",
       "      <th>slice_age_y</th>\n",
       "      <th>month_number</th>\n",
       "      <th>price</th>\n",
       "    </tr>\n",
       "  </thead>\n",
       "  <tbody>\n",
       "    <tr>\n",
       "      <th>0</th>\n",
       "      <td>20&gt;</td>\n",
       "      <td>01</td>\n",
       "      <td>884</td>\n",
       "    </tr>\n",
       "    <tr>\n",
       "      <th>1</th>\n",
       "      <td>20&gt;</td>\n",
       "      <td>02</td>\n",
       "      <td>940</td>\n",
       "    </tr>\n",
       "    <tr>\n",
       "      <th>2</th>\n",
       "      <td>20&gt;</td>\n",
       "      <td>03</td>\n",
       "      <td>803</td>\n",
       "    </tr>\n",
       "    <tr>\n",
       "      <th>3</th>\n",
       "      <td>20&gt;</td>\n",
       "      <td>04</td>\n",
       "      <td>756</td>\n",
       "    </tr>\n",
       "    <tr>\n",
       "      <th>4</th>\n",
       "      <td>20&gt;</td>\n",
       "      <td>05</td>\n",
       "      <td>824</td>\n",
       "    </tr>\n",
       "    <tr>\n",
       "      <th>...</th>\n",
       "      <td>...</td>\n",
       "      <td>...</td>\n",
       "      <td>...</td>\n",
       "    </tr>\n",
       "    <tr>\n",
       "      <th>91</th>\n",
       "      <td>80&lt;</td>\n",
       "      <td>08</td>\n",
       "      <td>347</td>\n",
       "    </tr>\n",
       "    <tr>\n",
       "      <th>92</th>\n",
       "      <td>80&lt;</td>\n",
       "      <td>09</td>\n",
       "      <td>488</td>\n",
       "    </tr>\n",
       "    <tr>\n",
       "      <th>93</th>\n",
       "      <td>80&lt;</td>\n",
       "      <td>10</td>\n",
       "      <td>226</td>\n",
       "    </tr>\n",
       "    <tr>\n",
       "      <th>94</th>\n",
       "      <td>80&lt;</td>\n",
       "      <td>11</td>\n",
       "      <td>422</td>\n",
       "    </tr>\n",
       "    <tr>\n",
       "      <th>95</th>\n",
       "      <td>80&lt;</td>\n",
       "      <td>12</td>\n",
       "      <td>454</td>\n",
       "    </tr>\n",
       "  </tbody>\n",
       "</table>\n",
       "<p>96 rows × 3 columns</p>\n",
       "</div>"
      ],
      "text/plain": [
       "   slice_age_y month_number  price\n",
       "0          20>           01    884\n",
       "1          20>           02    940\n",
       "2          20>           03    803\n",
       "3          20>           04    756\n",
       "4          20>           05    824\n",
       "..         ...          ...    ...\n",
       "91         80<           08    347\n",
       "92         80<           09    488\n",
       "93         80<           10    226\n",
       "94         80<           11    422\n",
       "95         80<           12    454\n",
       "\n",
       "[96 rows x 3 columns]"
      ]
     },
     "execution_count": 305,
     "metadata": {},
     "output_type": "execute_result"
    }
   ],
   "source": [
    "df_general[['client_id', 'age']]\n",
    "\n",
    "sous_echantillon1 = sous_echantillon1.drop_duplicates()\n",
    "\n",
    "sous_echantillon1 = sous_echantillon1[['client_id', 'price','slice_age_y', 'month_number']]\n",
    "sous_echantillon = sous_echantillon1.groupby([sous_echantillon1['slice_age_y'],'month_number']).sum().reset_index()\n",
    "sous_echantillon = sous_echantillon[['slice_age_y', 'month_number', 'price']]\n",
    "sous_echantillon"
   ]
  },
  {
   "cell_type": "code",
   "execution_count": 306,
   "metadata": {},
   "outputs": [
    {
     "data": {
      "image/png": "[encoded data removed]",
      "text/plain": [
       "<Figure size 449.425x360 with 1 Axes>"
      ]
     },
     "metadata": {},
     "output_type": "display_data"
    }
   ],
   "source": [
    "X = 'slice_age_y'\n",
    "Y = 'price'\n",
    "\n",
    "\n",
    "sns.set_theme()\n",
    "ax13 = sns.relplot(\n",
    "    data=sous_echantillon,\n",
    "    x=X,\n",
    "    y=Y,\n",
    "    hue='month_number'\n",
    ")\n",
    "ax13.set(xlabel=\"Tranches d'âge\", ylabel=\"Fréquences achats\", title=\"Fréquences d'achats par tranches d'âge\")\n",
    "\n",
    "plt.show()\n"
   ]
  },
  {
   "cell_type": "code",
   "execution_count": 307,
   "metadata": {},
   "outputs": [
    {
     "data": {
      "text/plain": [
       "0.966064470366709"
      ]
     },
     "execution_count": 307,
     "metadata": {},
     "output_type": "execute_result"
    }
   ],
   "source": [
    "eta_squared(sous_echantillon[X],sous_echantillon[Y])"
   ]
  },
  {
   "cell_type": "markdown",
   "metadata": {},
   "source": [
    "#### eta squared  égale à 0.96"
   ]
  },
  {
   "cell_type": "markdown",
   "metadata": {},
   "source": [
    "##### On constate qu'il y'a une corrélation entre l'âge des clients et la fréquence d'achat  "
   ]
  },
  {
   "cell_type": "markdown",
   "metadata": {},
   "source": [
    "### Question 2.3 : Y a-t-il une corrélation entre l'âge des clients et la taille du panier moyen (en nombre d’articles) ?\n"
   ]
  },
  {
   "cell_type": "code",
   "execution_count": 308,
   "metadata": {},
   "outputs": [
    {
     "data": {
      "text/html": [
       "<div>\n",
       "<style scoped>\n",
       "    .dataframe tbody tr th:only-of-type {\n",
       "        vertical-align: middle;\n",
       "    }\n",
       "\n",
       "    .dataframe tbody tr th {\n",
       "        vertical-align: top;\n",
       "    }\n",
       "\n",
       "    .dataframe thead th {\n",
       "        text-align: right;\n",
       "    }\n",
       "</style>\n",
       "<table border=\"1\" class=\"dataframe\">\n",
       "  <thead>\n",
       "    <tr style=\"text-align: right;\">\n",
       "      <th></th>\n",
       "      <th>session_id</th>\n",
       "      <th>slice_age</th>\n",
       "      <th>price</th>\n",
       "      <th>age</th>\n",
       "      <th>client_id</th>\n",
       "    </tr>\n",
       "  </thead>\n",
       "  <tbody>\n",
       "    <tr>\n",
       "      <th>0</th>\n",
       "      <td>s_1</td>\n",
       "      <td>51-60</td>\n",
       "      <td>1</td>\n",
       "      <td>1</td>\n",
       "      <td>1</td>\n",
       "    </tr>\n",
       "    <tr>\n",
       "      <th>1</th>\n",
       "      <td>s_10</td>\n",
       "      <td>51-60</td>\n",
       "      <td>1</td>\n",
       "      <td>1</td>\n",
       "      <td>1</td>\n",
       "    </tr>\n",
       "    <tr>\n",
       "      <th>2</th>\n",
       "      <td>s_100</td>\n",
       "      <td>41-50</td>\n",
       "      <td>2</td>\n",
       "      <td>2</td>\n",
       "      <td>2</td>\n",
       "    </tr>\n",
       "    <tr>\n",
       "      <th>3</th>\n",
       "      <td>s_1000</td>\n",
       "      <td>31-40</td>\n",
       "      <td>4</td>\n",
       "      <td>4</td>\n",
       "      <td>4</td>\n",
       "    </tr>\n",
       "    <tr>\n",
       "      <th>4</th>\n",
       "      <td>s_10000</td>\n",
       "      <td>31-40</td>\n",
       "      <td>3</td>\n",
       "      <td>3</td>\n",
       "      <td>3</td>\n",
       "    </tr>\n",
       "    <tr>\n",
       "      <th>...</th>\n",
       "      <td>...</td>\n",
       "      <td>...</td>\n",
       "      <td>...</td>\n",
       "      <td>...</td>\n",
       "      <td>...</td>\n",
       "    </tr>\n",
       "    <tr>\n",
       "      <th>169168</th>\n",
       "      <td>s_99994</td>\n",
       "      <td>31-40</td>\n",
       "      <td>3</td>\n",
       "      <td>3</td>\n",
       "      <td>3</td>\n",
       "    </tr>\n",
       "    <tr>\n",
       "      <th>169169</th>\n",
       "      <td>s_99995</td>\n",
       "      <td>61-70</td>\n",
       "      <td>1</td>\n",
       "      <td>1</td>\n",
       "      <td>1</td>\n",
       "    </tr>\n",
       "    <tr>\n",
       "      <th>169170</th>\n",
       "      <td>s_99996</td>\n",
       "      <td>41-50</td>\n",
       "      <td>4</td>\n",
       "      <td>4</td>\n",
       "      <td>4</td>\n",
       "    </tr>\n",
       "    <tr>\n",
       "      <th>169171</th>\n",
       "      <td>s_99997</td>\n",
       "      <td>41-50</td>\n",
       "      <td>1</td>\n",
       "      <td>1</td>\n",
       "      <td>1</td>\n",
       "    </tr>\n",
       "    <tr>\n",
       "      <th>169172</th>\n",
       "      <td>s_99998</td>\n",
       "      <td>41-50</td>\n",
       "      <td>3</td>\n",
       "      <td>3</td>\n",
       "      <td>3</td>\n",
       "    </tr>\n",
       "  </tbody>\n",
       "</table>\n",
       "<p>169173 rows × 5 columns</p>\n",
       "</div>"
      ],
      "text/plain": [
       "       session_id slice_age  price  age  client_id\n",
       "0             s_1     51-60      1    1          1\n",
       "1            s_10     51-60      1    1          1\n",
       "2           s_100     41-50      2    2          2\n",
       "3          s_1000     31-40      4    4          4\n",
       "4         s_10000     31-40      3    3          3\n",
       "...           ...       ...    ...  ...        ...\n",
       "169168    s_99994     31-40      3    3          3\n",
       "169169    s_99995     61-70      1    1          1\n",
       "169170    s_99996     41-50      4    4          4\n",
       "169171    s_99997     41-50      1    1          1\n",
       "169172    s_99998     41-50      3    3          3\n",
       "\n",
       "[169173 rows x 5 columns]"
      ]
     },
     "execution_count": 308,
     "metadata": {},
     "output_type": "execute_result"
    }
   ],
   "source": [
    "#je considère qu'un panier représente une session d'achats \n",
    "sous_ech5 = df_general[['slice_age', 'price', 'age', 'client_id', 'session_id']].groupby(['session_id', 'slice_age']).count().reset_index()\n",
    "sous_ech5 "
   ]
  },
  {
   "cell_type": "code",
   "execution_count": 309,
   "metadata": {},
   "outputs": [
    {
     "data": {
      "image/png": "[encoded data removed]",
      "text/plain": [
       "<Figure size 432x288 with 1 Axes>"
      ]
     },
     "metadata": {},
     "output_type": "display_data"
    }
   ],
   "source": [
    "X = 'slice_age'\n",
    "Y = 'price'\n",
    "\n",
    "\n",
    "\n",
    "modalites = sous_ech5[X].unique()\n",
    "groupes = []\n",
    "for m in modalites:\n",
    "    groupes.append(sous_ech5[sous_ech5[X]==m][Y])\n",
    "\n",
    "# Propriétés graphiques (pas très importantes)    \n",
    "medianprops = {'color':\"black\"}\n",
    "meanprops = {'marker':'o', 'markeredgecolor':'black',\n",
    "            'markerfacecolor':'firebrick'}\n",
    "fig15 = plt.figure()\n",
    "ax15 = plt.axes()  \n",
    "ax15.boxplot(groupes, labels=modalites, showfliers=False, medianprops=medianprops, \n",
    "            vert=True, patch_artist=True, showmeans=True, meanprops=meanprops )\n",
    "ax15.set(xlabel=\"Tranches d'âge\", ylabel=\"Nombre d'articles\", title=\"Panier  par tranches d'âge\")\n",
    "\n",
    "plt.show()\n",
    "fig = ax15.get_figure()\n",
    "fig.savefig(\"graph/correlation/question_23/plot_correl_23.jpeg\")\n"
   ]
  },
  {
   "cell_type": "code",
   "execution_count": 310,
   "metadata": {},
   "outputs": [
    {
     "data": {
      "text/plain": [
       "0.11925136325231647"
      ]
     },
     "execution_count": 310,
     "metadata": {},
     "output_type": "execute_result"
    }
   ],
   "source": [
    "eta_squared(sous_ech5[X],sous_ech5[Y])"
   ]
  },
  {
   "cell_type": "markdown",
   "metadata": {},
   "source": [
    "##### On constate qu'il y'a une très légere corrélation entre l'âge et le montant moyen du panier "
   ]
  },
  {
   "cell_type": "markdown",
   "metadata": {},
   "source": [
    "### Question 2.3 : Y a-t-il une corrélation entre l'âge des clients et les catégories de produits achetés ?"
   ]
  },
  {
   "cell_type": "code",
   "execution_count": 311,
   "metadata": {},
   "outputs": [
    {
     "data": {
      "text/html": [
       "<div>\n",
       "<style scoped>\n",
       "    .dataframe tbody tr th:only-of-type {\n",
       "        vertical-align: middle;\n",
       "    }\n",
       "\n",
       "    .dataframe tbody tr th {\n",
       "        vertical-align: top;\n",
       "    }\n",
       "\n",
       "    .dataframe thead th {\n",
       "        text-align: right;\n",
       "    }\n",
       "</style>\n",
       "<table border=\"1\" class=\"dataframe\">\n",
       "  <thead>\n",
       "    <tr style=\"text-align: right;\">\n",
       "      <th>categ</th>\n",
       "      <th>0</th>\n",
       "      <th>1</th>\n",
       "      <th>2</th>\n",
       "      <th>Total</th>\n",
       "    </tr>\n",
       "    <tr>\n",
       "      <th>slice_age</th>\n",
       "      <th></th>\n",
       "      <th></th>\n",
       "      <th></th>\n",
       "      <th></th>\n",
       "    </tr>\n",
       "  </thead>\n",
       "  <tbody>\n",
       "    <tr>\n",
       "      <th>20&gt;</th>\n",
       "      <td>2156</td>\n",
       "      <td>3576</td>\n",
       "      <td>3798</td>\n",
       "      <td>9530</td>\n",
       "    </tr>\n",
       "    <tr>\n",
       "      <th>21-30</th>\n",
       "      <td>6193</td>\n",
       "      <td>10866</td>\n",
       "      <td>12338</td>\n",
       "      <td>29397</td>\n",
       "    </tr>\n",
       "    <tr>\n",
       "      <th>31-40</th>\n",
       "      <td>75173</td>\n",
       "      <td>22273</td>\n",
       "      <td>292</td>\n",
       "      <td>97738</td>\n",
       "    </tr>\n",
       "    <tr>\n",
       "      <th>41-50</th>\n",
       "      <td>86006</td>\n",
       "      <td>25172</td>\n",
       "      <td>283</td>\n",
       "      <td>111461</td>\n",
       "    </tr>\n",
       "    <tr>\n",
       "      <th>51-60</th>\n",
       "      <td>21481</td>\n",
       "      <td>25295</td>\n",
       "      <td>495</td>\n",
       "      <td>47271</td>\n",
       "    </tr>\n",
       "    <tr>\n",
       "      <th>61-70</th>\n",
       "      <td>11627</td>\n",
       "      <td>14228</td>\n",
       "      <td>222</td>\n",
       "      <td>26077</td>\n",
       "    </tr>\n",
       "    <tr>\n",
       "      <th>71-80</th>\n",
       "      <td>4753</td>\n",
       "      <td>5754</td>\n",
       "      <td>84</td>\n",
       "      <td>10591</td>\n",
       "    </tr>\n",
       "    <tr>\n",
       "      <th>80&lt;</th>\n",
       "      <td>2037</td>\n",
       "      <td>2571</td>\n",
       "      <td>40</td>\n",
       "      <td>4648</td>\n",
       "    </tr>\n",
       "    <tr>\n",
       "      <th>Total</th>\n",
       "      <td>209426</td>\n",
       "      <td>109735</td>\n",
       "      <td>17552</td>\n",
       "      <td>336713</td>\n",
       "    </tr>\n",
       "  </tbody>\n",
       "</table>\n",
       "</div>"
      ],
      "text/plain": [
       "categ           0       1      2   Total\n",
       "slice_age                               \n",
       "20>          2156    3576   3798    9530\n",
       "21-30        6193   10866  12338   29397\n",
       "31-40       75173   22273    292   97738\n",
       "41-50       86006   25172    283  111461\n",
       "51-60       21481   25295    495   47271\n",
       "61-70       11627   14228    222   26077\n",
       "71-80        4753    5754     84   10591\n",
       "80<          2037    2571     40    4648\n",
       "Total      209426  109735  17552  336713"
      ]
     },
     "execution_count": 311,
     "metadata": {},
     "output_type": "execute_result"
    }
   ],
   "source": [
    "X = 'slice_age'\n",
    "Y = 'categ'\n",
    "\n",
    "cont = df_general[[X,Y]].pivot_table(index=X,columns=Y,aggfunc=len,margins=True,margins_name=\"Total\")\n",
    "cont"
   ]
  },
  {
   "cell_type": "code",
   "execution_count": 312,
   "metadata": {},
   "outputs": [
    {
     "data": {
      "image/png": "[encoded data removed]",
      "text/plain": [
       "<Figure size 432x288 with 2 Axes>"
      ]
     },
     "metadata": {},
     "output_type": "display_data"
    },
    {
     "name": "stdout",
     "output_type": "stream",
     "text": [
      "khi-2 : 152050.49648509864\n"
     ]
    }
   ],
   "source": [
    "tx = cont.loc[:,[\"Total\"]]\n",
    "ty = cont.loc[[\"Total\"],:]\n",
    "n = len(df_general)\n",
    "indep = tx.dot(ty) / n\n",
    "\n",
    "c = cont.fillna(0) # On remplace les valeurs nulles par 0\n",
    "measure = (c-indep)**2/indep\n",
    "xi_n = measure.sum().sum()\n",
    "table = measure/xi_n\n",
    "ax16 = sns.heatmap(table.iloc[:-1,:-1],annot=c.iloc[:-1,:-1])\n",
    "plt.show()\n",
    "print('khi-2 :', xi_n)\n",
    "ax16.set(xlabel=\"Catégories\", ylabel=\"Tranches d'âge\", title=\"Valeurs Théoriques\")\n",
    "\n",
    "plt.show()\n",
    "fig = ax16.get_figure()\n",
    "fig.savefig(\"graph/correlation/question_24/heatmap_correl_23.jpeg\")"
   ]
  },
  {
   "cell_type": "markdown",
   "metadata": {},
   "source": [
    "#### Il existe une corrélation entre l'âge et les categories de produits achetés. On remarque que les moins de 20 ans et les 20-30 ans sont ceux qui achètent le plus de produit de la catégorie 2."
   ]
  }
 ],
 "metadata": {
  "kernelspec": {
   "display_name": "Python 3",
   "language": "python",
   "name": "python3"
  },
  "language_info": {
   "codemirror_mode": {
    "name": "ipython",
    "version": 3
   },
   "file_extension": ".py",
   "mimetype": "text/x-python",
   "name": "python",
   "nbconvert_exporter": "python",
   "pygments_lexer": "ipython3",
   "version": "3.8.5"
  }
 },
 "nbformat": 4,
 "nbformat_minor": 4
}
